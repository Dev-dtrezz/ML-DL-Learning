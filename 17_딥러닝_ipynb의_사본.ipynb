{
  "nbformat": 4,
  "nbformat_minor": 0,
  "metadata": {
    "colab": {
      "provenance": [],
      "authorship_tag": "ABX9TyPLOWiRept+/ZusVU5qioIO",
      "include_colab_link": true
    },
    "kernelspec": {
      "name": "python3",
      "display_name": "Python 3"
    },
    "language_info": {
      "name": "python"
    }
  },
  "cells": [
    {
      "cell_type": "markdown",
      "metadata": {
        "id": "view-in-github",
        "colab_type": "text"
      },
      "source": [
        "<a href=\"https://colab.research.google.com/github/yunseobYuk/ML-DL-Learning/blob/main/17_%EB%94%A5%EB%9F%AC%EB%8B%9D_ipynb%EC%9D%98_%EC%82%AC%EB%B3%B8.ipynb\" target=\"_parent\"><img src=\"https://colab.research.google.com/assets/colab-badge.svg\" alt=\"Open In Colab\"/></a>"
      ]
    },
    {
      "cell_type": "markdown",
      "source": [
        "# 1. 뉴런(neuron)"
      ],
      "metadata": {
        "id": "QKkhNSi7PNEu"
      }
    },
    {
      "cell_type": "markdown",
      "source": [
        "### 1-1. 생물학적 뉴런\n",
        "* 인간의 뇌는 수십억 개의 뉴런을 가지고 있음\n",
        "* 뉴런은 화학적, 전기적 신호를 처리하고 전달하는 연결된 뇌신경 세포\n",
        "\n",
        "![](https://i.imgur.com/j3yx4zF.jpg)"
      ],
      "metadata": {
        "id": "nHUwQ2D4Pa7h"
      }
    },
    {
      "cell_type": "markdown",
      "source": [
        "### 1-2. 인공뉴런\n",
        "* 1943년에 워렌 맥컬록, 월터 피츠가 단순화된 뇌세포 개념을 발표\n",
        "* 신경 세포를 이진 출력을 가진 단순한 논리 게이트라고 설명\n",
        "* 생물학적 뉴런의 모델에 기초한 수학적 기능으로 각 뉴런이 입력을 받아 개별적으로 가중치를 곱하여 나온 합계를 비선형 함수를 전달하여 출력을 생성"
      ],
      "metadata": {
        "id": "AiPxBtO-Piye"
      }
    },
    {
      "cell_type": "markdown",
      "source": [
        "# 2. 퍼셉트론(Perceptron)\n",
        "* 인공 신경망의 가장 기본적인 형태로 1957년에 처음 소개됨\n",
        "* 입력과 출력을 가진 단일 뉴런 모델을 기반\n",
        "* 초기에 기계학습 알고리즘 중 하나로 이진 분류 문제를 해결하기 위해 설계\n",
        "* 여러 개 쌓으면 멀티레이어퍼셉트론"
      ],
      "metadata": {
        "id": "7E1IEdPpQS7x"
      }
    },
    {
      "cell_type": "markdown",
      "source": [
        "## 2-1. 논리 회귀(단층 퍼셉트로)로 AND 문제 풀기\n",
        "\n",
        "![](https://i.imgur.com/yt7O7TV.jpg)"
      ],
      "metadata": {
        "id": "4Sdi7W58RMQJ"
      }
    },
    {
      "cell_type": "code",
      "source": [
        "import torch\n",
        "import torch.nn as nn\n",
        "import torch.optim as optim"
      ],
      "metadata": {
        "id": "gQhmt40nSorj"
      },
      "execution_count": null,
      "outputs": []
    },
    {
      "cell_type": "code",
      "source": [
        "X = torch.FloatTensor([[0,0],[0,1],[1,0],[1,1]])\n",
        "y = torch.FloatTensor([[0],[0],[0],[1]])\n",
        "\n",
        "model = nn.Sequential(nn.Linear(2,1), nn.Sigmoid())\n",
        "\n",
        "optimizer = optim.SGD(model.parameters(), lr=1)\n",
        "\n",
        "epochs = 1000\n",
        "\n",
        "for epoch in range(epochs+1):\n",
        "    y_pred = model(X)\n",
        "    loss = nn.BCELoss()(y_pred, y)\n",
        "    optimizer.zero_grad()\n",
        "    loss.backward()\n",
        "    optimizer.step()\n",
        "\n",
        "    if epoch % 100 == 0:\n",
        "        y_bool = (y_pred >= 0.5).float()\n",
        "        accuracy = (y == y_bool).float().sum() / len(y) * 100\n",
        "        print(f'Epoch {epoch:4d}/{epochs} Loss:{loss:.6f} Accuracy: {accuracy:.2f}')"
      ],
      "metadata": {
        "colab": {
          "base_uri": "https://localhost:8080/"
        },
        "id": "2Gk5m7SOS6Ir",
        "outputId": "7febd659-594b-4c58-e9ae-6bd67c56bc43"
      },
      "execution_count": null,
      "outputs": [
        {
          "output_type": "stream",
          "name": "stdout",
          "text": [
            "Epoch    0/1000 Loss:0.664937 Accuracy: 50.00\n",
            "Epoch  100/1000 Loss:0.141062 Accuracy: 100.00\n",
            "Epoch  200/1000 Loss:0.080742 Accuracy: 100.00\n",
            "Epoch  300/1000 Loss:0.056076 Accuracy: 100.00\n",
            "Epoch  400/1000 Loss:0.042774 Accuracy: 100.00\n",
            "Epoch  500/1000 Loss:0.034497 Accuracy: 100.00\n",
            "Epoch  600/1000 Loss:0.028867 Accuracy: 100.00\n",
            "Epoch  700/1000 Loss:0.024797 Accuracy: 100.00\n",
            "Epoch  800/1000 Loss:0.021722 Accuracy: 100.00\n",
            "Epoch  900/1000 Loss:0.019318 Accuracy: 100.00\n",
            "Epoch 1000/1000 Loss:0.017388 Accuracy: 100.00\n"
          ]
        }
      ]
    },
    {
      "cell_type": "markdown",
      "source": [
        "## 2-2. 논리 회귀(단층 퍼셉트론)로 OR 문제 풀기"
      ],
      "metadata": {
        "id": "yADOE5h-UJ9V"
      }
    },
    {
      "cell_type": "code",
      "source": [
        "X = torch.FloatTensor([[0,0],[0,1],[1,0],[1,1]])\n",
        "y = torch.FloatTensor([[0],[1],[1],[1]])\n",
        "\n",
        "model = nn.Sequential(nn.Linear(2,1), nn.Sigmoid())\n",
        "\n",
        "optimizer = optim.SGD(model.parameters(), lr=1)\n",
        "\n",
        "epochs = 1000\n",
        "\n",
        "for epoch in range(epochs+1):\n",
        "    y_pred = model(X)\n",
        "    loss = nn.BCELoss()(y_pred, y)\n",
        "    optimizer.zero_grad()\n",
        "    loss.backward()\n",
        "    optimizer.step()\n",
        "\n",
        "    if epoch % 100 == 0:\n",
        "        y_bool = (y_pred >= 0.5).float()\n",
        "        accuracy = (y == y_bool).float().sum() / len(y) * 100\n",
        "        print(f'Epoch {epoch:4d}/{epochs} Loss:{loss:.6f} Accuracy: {accuracy:.2f}')"
      ],
      "metadata": {
        "colab": {
          "base_uri": "https://localhost:8080/"
        },
        "id": "fTj-I8DUUp_W",
        "outputId": "92e1f2b8-e9cb-4af1-b83f-d1f75dcd3d33"
      },
      "execution_count": null,
      "outputs": [
        {
          "output_type": "stream",
          "name": "stdout",
          "text": [
            "Epoch    0/1000 Loss:0.718496 Accuracy: 25.00\n",
            "Epoch  100/1000 Loss:0.092196 Accuracy: 100.00\n",
            "Epoch  200/1000 Loss:0.047722 Accuracy: 100.00\n",
            "Epoch  300/1000 Loss:0.031811 Accuracy: 100.00\n",
            "Epoch  400/1000 Loss:0.023758 Accuracy: 100.00\n",
            "Epoch  500/1000 Loss:0.018923 Accuracy: 100.00\n",
            "Epoch  600/1000 Loss:0.015707 Accuracy: 100.00\n",
            "Epoch  700/1000 Loss:0.013418 Accuracy: 100.00\n",
            "Epoch  800/1000 Loss:0.011706 Accuracy: 100.00\n",
            "Epoch  900/1000 Loss:0.010379 Accuracy: 100.00\n",
            "Epoch 1000/1000 Loss:0.009320 Accuracy: 100.00\n"
          ]
        }
      ]
    },
    {
      "cell_type": "markdown",
      "source": [
        "## 2-3. 논리 회귀(단층 퍼셉트론)로 XOR 문제 풀기\n",
        "\n",
        "![](https://i.imgur.com/55pt51n.png)\n",
        "\n",
        "값이 같으면 0 / 다르면 1 출력\n",
        "\n",
        "https://ang-love-chang.tistory.com/26"
      ],
      "metadata": {
        "id": "vNvBa5OMUt4Z"
      }
    },
    {
      "cell_type": "code",
      "source": [
        "X = torch.FloatTensor([[0,0],[0,1],[1,0],[1,1]])\n",
        "y = torch.FloatTensor([[0],[1],[1],[0]])\n",
        "\n",
        "model = nn.Sequential(nn.Linear(2,1), nn.Sigmoid())\n",
        "\n",
        "optimizer = optim.SGD(model.parameters(), lr=1)\n",
        "\n",
        "epochs = 1000\n",
        "\n",
        "for epoch in range(epochs+1):\n",
        "    y_pred = model(X)\n",
        "    loss = nn.BCELoss()(y_pred, y)\n",
        "    optimizer.zero_grad()\n",
        "    loss.backward()\n",
        "    optimizer.step()\n",
        "\n",
        "    if epoch % 100 == 0:\n",
        "        y_bool = (y_pred >= 0.5).float()\n",
        "        accuracy = (y == y_bool).float().sum() / len(y) * 100\n",
        "        print(f'Epoch {epoch:4d}/{epochs} Loss:{loss:.6f} Accuracy: {accuracy:.2f}')"
      ],
      "metadata": {
        "colab": {
          "base_uri": "https://localhost:8080/"
        },
        "id": "R6lJsK-pU3l6",
        "outputId": "cb18d757-e520-417a-c5c6-44b8bf5d8f04"
      },
      "execution_count": null,
      "outputs": [
        {
          "output_type": "stream",
          "name": "stdout",
          "text": [
            "Epoch    0/1000 Loss:0.772560 Accuracy: 50.00\n",
            "Epoch  100/1000 Loss:0.693147 Accuracy: 50.00\n",
            "Epoch  200/1000 Loss:0.693147 Accuracy: 25.00\n",
            "Epoch  300/1000 Loss:0.693147 Accuracy: 25.00\n",
            "Epoch  400/1000 Loss:0.693147 Accuracy: 50.00\n",
            "Epoch  500/1000 Loss:0.693147 Accuracy: 50.00\n",
            "Epoch  600/1000 Loss:0.693147 Accuracy: 50.00\n",
            "Epoch  700/1000 Loss:0.693147 Accuracy: 50.00\n",
            "Epoch  800/1000 Loss:0.693147 Accuracy: 50.00\n",
            "Epoch  900/1000 Loss:0.693147 Accuracy: 50.00\n",
            "Epoch 1000/1000 Loss:0.693147 Accuracy: 50.00\n"
          ]
        }
      ]
    },
    {
      "cell_type": "markdown",
      "source": [
        "### 2-4. 다층 퍼셉트론으로 XOR문제 풀기\n",
        "* 여러 개의 층을 만들어 해결\n",
        "* 2차원 평면에서는 해결 불가능해서 차원을 추가하여 해결"
      ],
      "metadata": {
        "id": "M5jJPQ-2Vhv3"
      }
    },
    {
      "cell_type": "code",
      "source": [
        "model = nn.Sequential(\n",
        "    nn.Linear(2, 64), # 입력 레이어\n",
        "    nn.Sigmoid(), # 비정형 함수\n",
        "    nn.Linear(64, 32), # 히든레이어 시작\n",
        "    nn.Sigmoid(),\n",
        "    nn.Linear(32, 16), # 히든레이어 끝\n",
        "    nn.Sigmoid(),\n",
        "    nn.Linear(16, 1), # 출력 레이어\n",
        "    nn.Sigmoid() # 분류해주기 위한 연산\n",
        ")\n",
        "print(model)"
      ],
      "metadata": {
        "colab": {
          "base_uri": "https://localhost:8080/"
        },
        "id": "AEtNXsB4WUwM",
        "outputId": "8ba186b5-a86f-42b8-ab6e-717a649bbaf7"
      },
      "execution_count": null,
      "outputs": [
        {
          "output_type": "stream",
          "name": "stdout",
          "text": [
            "Sequential(\n",
            "  (0): Linear(in_features=2, out_features=64, bias=True)\n",
            "  (1): Sigmoid()\n",
            "  (2): Linear(in_features=64, out_features=32, bias=True)\n",
            "  (3): Sigmoid()\n",
            "  (4): Linear(in_features=32, out_features=16, bias=True)\n",
            "  (5): Sigmoid()\n",
            "  (6): Linear(in_features=16, out_features=1, bias=True)\n",
            "  (7): Sigmoid()\n",
            ")\n"
          ]
        }
      ]
    },
    {
      "cell_type": "code",
      "source": [
        "X = torch.FloatTensor([[0,0],[0,1],[1,0],[1,1]])\n",
        "y = torch.FloatTensor([[0],[1],[1],[0]])\n",
        "\n",
        "optimizer = optim.SGD(model.parameters(), lr=1)\n",
        "\n",
        "epochs = 5000\n",
        "\n",
        "for epoch in range(epochs+1):\n",
        "    y_pred = model(X)\n",
        "    loss = nn.BCELoss()(y_pred, y)\n",
        "    optimizer.zero_grad()\n",
        "    loss.backward()\n",
        "    optimizer.step()\n",
        "\n",
        "    if epoch % 100 == 0:\n",
        "        y_bool = (y_pred >= 0.5).float()\n",
        "        accuracy = (y == y_bool).float().sum() / len(y) * 100\n",
        "        print(f'Epoch {epoch:4d}/{epochs} Loss:{loss:.6f} Accuracy: {accuracy:.2f}')"
      ],
      "metadata": {
        "colab": {
          "base_uri": "https://localhost:8080/"
        },
        "id": "c9v-q2O_XvAA",
        "outputId": "4c230659-8f73-4bf6-870e-4087a55738bd"
      },
      "execution_count": null,
      "outputs": [
        {
          "output_type": "stream",
          "name": "stdout",
          "text": [
            "Epoch    0/5000 Loss:0.696200 Accuracy: 50.00\n",
            "Epoch  100/5000 Loss:0.693149 Accuracy: 50.00\n",
            "Epoch  200/5000 Loss:0.693144 Accuracy: 50.00\n",
            "Epoch  300/5000 Loss:0.693140 Accuracy: 75.00\n",
            "Epoch  400/5000 Loss:0.693135 Accuracy: 50.00\n",
            "Epoch  500/5000 Loss:0.693131 Accuracy: 50.00\n",
            "Epoch  600/5000 Loss:0.693126 Accuracy: 50.00\n",
            "Epoch  700/5000 Loss:0.693121 Accuracy: 50.00\n",
            "Epoch  800/5000 Loss:0.693116 Accuracy: 50.00\n",
            "Epoch  900/5000 Loss:0.693110 Accuracy: 50.00\n",
            "Epoch 1000/5000 Loss:0.693104 Accuracy: 50.00\n",
            "Epoch 1100/5000 Loss:0.693098 Accuracy: 50.00\n",
            "Epoch 1200/5000 Loss:0.693091 Accuracy: 50.00\n",
            "Epoch 1300/5000 Loss:0.693083 Accuracy: 50.00\n",
            "Epoch 1400/5000 Loss:0.693074 Accuracy: 50.00\n",
            "Epoch 1500/5000 Loss:0.693064 Accuracy: 50.00\n",
            "Epoch 1600/5000 Loss:0.693053 Accuracy: 50.00\n",
            "Epoch 1700/5000 Loss:0.693040 Accuracy: 50.00\n",
            "Epoch 1800/5000 Loss:0.693026 Accuracy: 50.00\n",
            "Epoch 1900/5000 Loss:0.693008 Accuracy: 50.00\n",
            "Epoch 2000/5000 Loss:0.692988 Accuracy: 50.00\n",
            "Epoch 2100/5000 Loss:0.692963 Accuracy: 50.00\n",
            "Epoch 2200/5000 Loss:0.692933 Accuracy: 50.00\n",
            "Epoch 2300/5000 Loss:0.692896 Accuracy: 50.00\n",
            "Epoch 2400/5000 Loss:0.692849 Accuracy: 50.00\n",
            "Epoch 2500/5000 Loss:0.692789 Accuracy: 50.00\n",
            "Epoch 2600/5000 Loss:0.692710 Accuracy: 50.00\n",
            "Epoch 2700/5000 Loss:0.692603 Accuracy: 50.00\n",
            "Epoch 2800/5000 Loss:0.692450 Accuracy: 50.00\n",
            "Epoch 2900/5000 Loss:0.692224 Accuracy: 50.00\n",
            "Epoch 3000/5000 Loss:0.691864 Accuracy: 50.00\n",
            "Epoch 3100/5000 Loss:0.691235 Accuracy: 75.00\n",
            "Epoch 3200/5000 Loss:0.689973 Accuracy: 75.00\n",
            "Epoch 3300/5000 Loss:0.686799 Accuracy: 75.00\n",
            "Epoch 3400/5000 Loss:0.674675 Accuracy: 75.00\n",
            "Epoch 3500/5000 Loss:0.662901 Accuracy: 50.00\n",
            "Epoch 3600/5000 Loss:0.595945 Accuracy: 75.00\n",
            "Epoch 3700/5000 Loss:0.030647 Accuracy: 100.00\n",
            "Epoch 3800/5000 Loss:0.006783 Accuracy: 100.00\n",
            "Epoch 3900/5000 Loss:0.003536 Accuracy: 100.00\n",
            "Epoch 4000/5000 Loss:0.002333 Accuracy: 100.00\n",
            "Epoch 4100/5000 Loss:0.001719 Accuracy: 100.00\n",
            "Epoch 4200/5000 Loss:0.001352 Accuracy: 100.00\n",
            "Epoch 4300/5000 Loss:0.001108 Accuracy: 100.00\n",
            "Epoch 4400/5000 Loss:0.000936 Accuracy: 100.00\n",
            "Epoch 4500/5000 Loss:0.000809 Accuracy: 100.00\n",
            "Epoch 4600/5000 Loss:0.000710 Accuracy: 100.00\n",
            "Epoch 4700/5000 Loss:0.000632 Accuracy: 100.00\n",
            "Epoch 4800/5000 Loss:0.000569 Accuracy: 100.00\n",
            "Epoch 4900/5000 Loss:0.000517 Accuracy: 100.00\n",
            "Epoch 5000/5000 Loss:0.000473 Accuracy: 100.00\n"
          ]
        }
      ]
    },
    {
      "cell_type": "code",
      "source": [],
      "metadata": {
        "id": "dXfyOM6EX_Om"
      },
      "execution_count": null,
      "outputs": []
    },
    {
      "cell_type": "markdown",
      "source": [
        "# 99. 필기\n",
        "1. 히든 레이어가 한 개 이상이면 딥러닝.\n",
        "인풋 레이어 : 시작레이어\n",
        "아웃풋 레이어 : 마지막 레이어\n",
        "히든 레이어 : 그 사이~"
      ],
      "metadata": {
        "id": "oTQh_ZpcXXsK"
      }
    }
  ]
}