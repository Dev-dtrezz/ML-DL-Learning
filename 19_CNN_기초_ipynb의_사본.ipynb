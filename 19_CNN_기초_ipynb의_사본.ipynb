{
  "nbformat": 4,
  "nbformat_minor": 0,
  "metadata": {
    "colab": {
      "provenance": [],
      "toc_visible": true,
      "authorship_tag": "ABX9TyPEh6TswSp+HkdIw5xy96PS"
    },
    "kernelspec": {
      "name": "python3",
      "display_name": "Python 3"
    },
    "language_info": {
      "name": "python"
    }
  },
  "cells": [
    {
      "cell_type": "markdown",
      "source": [
        "# 1. CNN(Convolutional Neural Networks)\n",
        "* 합성곱 인공 신경망\n",
        "* 전통적인 뉴럴 네트워크에 컨볼루셔널 레이어를 붙인 형태\n",
        "* 컨볼루셔널 레이어를 통해 입력 받은 이미지에 대한 특정(Feature)을 추출하게되고, 추출한 특징을 기반으로 기존의 뉴럴 네트워크에 이용하여 분류\n",
        "\n",
        "![](https://i.imgur.com/yn9B3Et.jpg)"
      ],
      "metadata": {
        "id": "3VWIznaJgf51"
      }
    },
    {
      "cell_type": "markdown",
      "source": [
        "# 2. CNN을 사용하는 이유\n",
        "* 이미지를 분류할 때 DNN(Deep Neural Network)의 문제점\n",
        "    * 일반적인 DNN은 1차원 형태의 데이터를 사용해야 함\n",
        "    * 2차원 이상의 데이터가 입력되는 경우 flatten 시켜서 한 줄로 데이터를 변환 후 넣어야 함\n",
        "    * 이미지의 공간적/지역적 정보가 손실\n",
        "\n",
        "- CNN은 이미지를 그대로(Raw Input) 받음으로 공간적/지역적 정보를 유지"
      ],
      "metadata": {
        "id": "APaNVOmcglGA"
      }
    },
    {
      "cell_type": "markdown",
      "source": [
        "# 3. 이미지 데이터\n",
        "* 컬러 이미지는 3개의 채널로 이루어진 텐서\n",
        "* 컴퓨터는 이미지를 숫자로 인식하여 연산을 함\n",
        "\n",
        "<center><img src=\"https://i.imgur.com/mD4nKK1.png\" width=\"300px\"></center>\n",
        "\n",
        "\n",
        "\n",
        "<center><img src=\"https://i.imgur.com/bljeUqc.png\" width=\"300px\"></center>\n",
        "\n",
        "* 이미지의 정보는 0 ~ 255까지의 256개의 숫자로 표현\n",
        "* 빨강 255, 파랑 255, 녹색 255 -> 흰색\n",
        "* 빨강 0, 파랑 0, 녹색 0 -> 검정\n",
        "* 빨강 255, 파랑 0, 녹색 0 -> 빨강"
      ],
      "metadata": {
        "id": "GRuDYXzsjXrU"
      }
    },
    {
      "cell_type": "markdown",
      "source": [
        "# 4. Convolution 연산\n",
        "\n",
        "![](https://i.imgur.com/2MiTVss.png)\n",
        "\n",
        "* 컨볼루션 연산을 진행하면 출력 텐서의 크기가 작아짐\n",
        "\n",
        "![](https://i.imgur.com/fUuvC2r.gif)\n",
        "\n",
        "* 패딩 : 입력값 주위로 0을 넣어서 입력값의 크기를 인위적으로 키워 결과값이 작아지는 것을 방지\n",
        "\n",
        "![](https://i.imgur.com/AzbJCgg.gif)\n",
        "\n",
        "* 2D 컨볼루션 : 컬러 이미지에서는 2D 컨볼루션 연산을 수행\n",
        "\n",
        "![](https://i.imgur.com/Ve8xWUh.gif)\n",
        "\n",
        "* 풀링 : 중요한 특징을 추출하고 차원을 축소하기 위해 풀링 연산을 사용, MaxPool 또는 AvgPool 사용\n",
        "\n",
        "* 스트라이드 : 필터를 적용하는 간격을 설정\n",
        "\n",
        "<hr>\n",
        "\n",
        "* 드롭아웃(Dropout) 레이어\n",
        "    * 오버피팅을 막기 위해 사용하는 레이어\n",
        "    * 학습중일 때 랜덤하게 값을 발생하여 학습을 방해함으로 학습용 데이터에 결과가 치우치는 것을 방지(학습용이 아닌 다른 데이터를 집어넣음으로써 범용성을 높힘)\n",
        "\n",
        "* FC 레이어(Fully Connected Layer): 이미지를 분류 또는 예측하기 위해 사용되는 레이어"
      ],
      "metadata": {
        "id": "I0yyAbdl5cr2"
      }
    },
    {
      "cell_type": "markdown",
      "source": [
        "# 5. CNN 체험하기\n",
        "\n",
        "* https://adamharley.com/nn_vis/"
      ],
      "metadata": {
        "id": "n7tDyHIs4Ol7"
      }
    },
    {
      "cell_type": "markdown",
      "source": [
        "# 6. CNN을 구성하는 레이어\n",
        "------------- convolution layer ----------\n",
        "* Conv2D: 특징 추출\n",
        "* ReLU: 활성화 함수\n",
        "* MaxPool2D: 차원 축소\n",
        "* Conv2D: 특징 추출\n",
        "* ReLU: 활성화 함수\n",
        "* MaxPool2D: 차원 축소\n",
        "* ...\n",
        "-------------- fc layer --------------\n",
        "* Flatten: 다차원에서 1차원으로 변경\n",
        "* Linear: 선형 회귀\n",
        "* ReLU: 활성화 함수\n",
        "* ...\n",
        "* Sigmoid / Softmax 출력"
      ],
      "metadata": {
        "id": "N6fgCGUu5wjA"
      }
    },
    {
      "cell_type": "markdown",
      "source": [
        "# 99. 필기\n",
        "1. 이미지 딥러닝이란 convolution연산의 filter값. 가중치를 학습하는 과정(레이블과 끊임없이 비교함)\n",
        "2. 픽셀영역을 합성곱하여 레이블에 맞는 결과값을 추출\n",
        "3. 컨볼루션 영역을 그대로 유지하려면 '패딩'기법을 활용\n"
      ],
      "metadata": {
        "id": "NmCpSgHp4qiQ"
      }
    }
  ]
}