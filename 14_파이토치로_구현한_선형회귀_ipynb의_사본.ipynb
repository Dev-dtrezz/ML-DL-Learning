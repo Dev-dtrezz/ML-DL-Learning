{
  "nbformat": 4,
  "nbformat_minor": 0,
  "metadata": {
    "colab": {
      "provenance": [],
      "toc_visible": true,
      "authorship_tag": "ABX9TyMyvGuDshegMz2lv1h/PANJ",
      "include_colab_link": true
    },
    "kernelspec": {
      "name": "python3",
      "display_name": "Python 3"
    },
    "language_info": {
      "name": "python"
    }
  },
  "cells": [
    {
      "cell_type": "markdown",
      "metadata": {
        "id": "view-in-github",
        "colab_type": "text"
      },
      "source": [
        "<a href=\"https://colab.research.google.com/github/yunseobYuk/ML-DL-Learning/blob/main/14_%ED%8C%8C%EC%9D%B4%ED%86%A0%EC%B9%98%EB%A1%9C_%EA%B5%AC%ED%98%84%ED%95%9C_%EC%84%A0%ED%98%95%ED%9A%8C%EA%B7%80_ipynb%EC%9D%98_%EC%82%AC%EB%B3%B8.ipynb\" target=\"_parent\"><img src=\"https://colab.research.google.com/assets/colab-badge.svg\" alt=\"Open In Colab\"/></a>"
      ]
    },
    {
      "cell_type": "markdown",
      "source": [
        "# 1. 단항 선형 회귀 실습\n",
        "* 한 개의 입력이 들어가서 한 개의 출력이 나오는 구조"
      ],
      "metadata": {
        "id": "JtmtfYa_cys4"
      }
    },
    {
      "cell_type": "code",
      "source": [
        "import torch\n",
        "import torch.nn as nn # 모델을 만드는 모듈\n",
        "import torch.optim as optim # 학습을 시킬 때 쓰는 모듈\n",
        "import matplotlib.pyplot as plt"
      ],
      "metadata": {
        "id": "6rmUkdX-dIL0"
      },
      "execution_count": null,
      "outputs": []
    },
    {
      "cell_type": "code",
      "source": [
        "torch.manual_seed(2024)"
      ],
      "metadata": {
        "colab": {
          "base_uri": "https://localhost:8080/"
        },
        "id": "8CEmZ4WKdU0t",
        "outputId": "2546006d-bbe8-4a3f-df95-a96b11bba29b"
      },
      "execution_count": null,
      "outputs": [
        {
          "output_type": "execute_result",
          "data": {
            "text/plain": [
              "<torch._C.Generator at 0x7edf08b71590>"
            ]
          },
          "metadata": {},
          "execution_count": 164
        }
      ]
    },
    {
      "cell_type": "code",
      "source": [
        "x_train = torch.FloatTensor([[1],[2],[3]])\n",
        "y_train = torch.FloatTensor([[2],[4],[6]])\n",
        "print(x_train, x_train.shape)\n",
        "print(y_train, y_train.shape)"
      ],
      "metadata": {
        "colab": {
          "base_uri": "https://localhost:8080/"
        },
        "id": "GMD7EpBudjVY",
        "outputId": "b08f8b27-3e15-4785-b73d-d3201b031d58"
      },
      "execution_count": null,
      "outputs": [
        {
          "output_type": "stream",
          "name": "stdout",
          "text": [
            "tensor([[1.],\n",
            "        [2.],\n",
            "        [3.]]) torch.Size([3, 1])\n",
            "tensor([[2.],\n",
            "        [4.],\n",
            "        [6.]]) torch.Size([3, 1])\n"
          ]
        }
      ]
    },
    {
      "cell_type": "code",
      "source": [
        "plt.figure(figsize=(6,4))\n",
        "plt.scatter(x_train, y_train)"
      ],
      "metadata": {
        "colab": {
          "base_uri": "https://localhost:8080/",
          "height": 386
        },
        "id": "NIu2JqqAdzOI",
        "outputId": "ed919ad0-6578-4a40-fe34-4ec918f0b7b5"
      },
      "execution_count": null,
      "outputs": [
        {
          "output_type": "execute_result",
          "data": {
            "text/plain": [
              "<matplotlib.collections.PathCollection at 0x7ede415c6890>"
            ]
          },
          "metadata": {},
          "execution_count": 166
        },
        {
          "output_type": "display_data",
          "data": {
            "text/plain": [
              "<Figure size 600x400 with 1 Axes>"
            ],
            "image/png": "[encoded data removed]"
          },
          "metadata": {}
        }
      ]
    },
    {
      "cell_type": "code",
      "source": [
        "# y = ax + b\n",
        "model = nn.Linear(1,1) # 직선을 그어주는 방정식 만드는 함수\n",
        "print(model)"
      ],
      "metadata": {
        "colab": {
          "base_uri": "https://localhost:8080/"
        },
        "id": "Ps1BowlDd_2w",
        "outputId": "89621a63-6506-4965-c03c-2f9c23f3d1e7"
      },
      "execution_count": null,
      "outputs": [
        {
          "output_type": "stream",
          "name": "stdout",
          "text": [
            "Linear(in_features=1, out_features=1, bias=True)\n"
          ]
        }
      ]
    },
    {
      "cell_type": "code",
      "source": [
        "y_pred = model(x_train)\n",
        "print(y_pred)"
      ],
      "metadata": {
        "colab": {
          "base_uri": "https://localhost:8080/"
        },
        "id": "P95LK1qUe26e",
        "outputId": "14f94210-4a74-4b25-e40b-bd11bb7921bb"
      },
      "execution_count": null,
      "outputs": [
        {
          "output_type": "stream",
          "name": "stdout",
          "text": [
            "tensor([[0.7260],\n",
            "        [0.7894],\n",
            "        [0.8528]], grad_fn=<AddmmBackward0>)\n"
          ]
        }
      ]
    },
    {
      "cell_type": "code",
      "source": [
        "print(list(model.parameters())) # W: 0.0634, b: 0.6625\n",
        "# y = 0.0634x + 0.6625\n",
        "# x=1 : 0.0634 + 0.6625 = 0.7259\n",
        "# x=2 : 0.0634*2 + 0.6625 = 0.7893"
      ],
      "metadata": {
        "colab": {
          "base_uri": "https://localhost:8080/"
        },
        "id": "ut6-gXuSfT2B",
        "outputId": "b1580b71-6b26-492a-b884-e9829a099bf7"
      },
      "execution_count": null,
      "outputs": [
        {
          "output_type": "stream",
          "name": "stdout",
          "text": [
            "[Parameter containing:\n",
            "tensor([[0.0634]], requires_grad=True), Parameter containing:\n",
            "tensor([0.6625], requires_grad=True)]\n"
          ]
        }
      ]
    },
    {
      "cell_type": "code",
      "source": [
        "((y_pred-y_train)**2).mean() #MSE값 구하기"
      ],
      "metadata": {
        "colab": {
          "base_uri": "https://localhost:8080/"
        },
        "id": "Gey9G0utfiDO",
        "outputId": "1fc891ba-3468-4f66-89fb-0167ba967462"
      },
      "execution_count": null,
      "outputs": [
        {
          "output_type": "execute_result",
          "data": {
            "text/plain": [
              "tensor(12.8082, grad_fn=<MeanBackward0>)"
            ]
          },
          "metadata": {},
          "execution_count": 170
        }
      ]
    },
    {
      "cell_type": "code",
      "source": [
        "loss = nn.MSELoss()(y_pred, y_train) # MSE함수 사용\n",
        "loss"
      ],
      "metadata": {
        "colab": {
          "base_uri": "https://localhost:8080/"
        },
        "id": "SQicjR90f_VG",
        "outputId": "42f1a95c-271b-4e3e-a39c-36f9649fd16e"
      },
      "execution_count": null,
      "outputs": [
        {
          "output_type": "execute_result",
          "data": {
            "text/plain": [
              "tensor(12.8082, grad_fn=<MseLossBackward0>)"
            ]
          },
          "metadata": {},
          "execution_count": 171
        }
      ]
    },
    {
      "cell_type": "markdown",
      "source": [
        "# 2. 경사하강법(Gradient Descent)\n",
        "* 비용함수의 값(오차)을 최소로 하는 W와 b를 찾는 알고리즘을 옵티마이저 알고리즘이라고 함(최적의 기울기)\n",
        "* 옵티마이저 알고리즘 중 가장 기본적인 기술이 경사하강법\n",
        "* 옵티마이저 알고리즘을 통해 W와 b를 찾아내는 과정을 \"학습\"이라고 부름\n",
        "<center><img src='https://i.imgur.com/0fW4LTG.png' width=600></center>\n",
        "\n",
        "* 학습률(Learning rate): 한 번 W를 움직인 거리(increment step)\n",
        "* SGD(Stochastic Gradient Descent):\n",
        "    - 랜덤하게 데이터를 하나씩 뽑아서 loss를 만듦\n",
        "    - 데이터를 뽑고 다시 데이터를 넣고 반복\n",
        "    - 빠르게 방향을 결정"
      ],
      "metadata": {
        "id": "DjDAAwyRgi6K"
      }
    },
    {
      "cell_type": "code",
      "source": [
        "optimizer = optim.SGD(model.parameters(), lr=0.01)"
      ],
      "metadata": {
        "id": "iovOGKhBi8F6"
      },
      "execution_count": null,
      "outputs": []
    },
    {
      "cell_type": "code",
      "source": [
        "loss = nn.MSELoss()(y_pred, y_train)"
      ],
      "metadata": {
        "id": "UFYFQWpFjegX"
      },
      "execution_count": null,
      "outputs": []
    },
    {
      "cell_type": "code",
      "source": [
        "# gradient를 초기화\n",
        "optimizer.zero_grad()\n",
        "# 역전파: 비용 함수를 미분하여 gradient(기울기) 계산\n",
        "loss.backward()\n",
        "# W와 b를 업데이트\n",
        "optimizer.step()\n",
        "\n",
        "print(list(model.parameters())) # W: 0.2177, b: 0.7267"
      ],
      "metadata": {
        "colab": {
          "base_uri": "https://localhost:8080/"
        },
        "id": "lt7gNW0-jqd6",
        "outputId": "be6cd2c7-4062-4637-8191-b49712cd9be7"
      },
      "execution_count": null,
      "outputs": [
        {
          "output_type": "stream",
          "name": "stdout",
          "text": [
            "[Parameter containing:\n",
            "tensor([[0.2177]], requires_grad=True), Parameter containing:\n",
            "tensor([0.7267], requires_grad=True)]\n"
          ]
        }
      ]
    },
    {
      "cell_type": "code",
      "source": [
        "# 반복 학습을 통해 틀린 W, b를 수정하면서 오차를 계속 줄여나감\n",
        "# epochs: 반복 학습 횟수(에포크)\n",
        "epochs = 1000\n",
        "\n",
        "for epoch in range(epochs + 1):\n",
        "    y_pred = model(x_train)\n",
        "    loss = nn.MSELoss()(y_pred, y_train)\n",
        "    optimizer.zero_grad()\n",
        "    loss.backward()\n",
        "    optimizer.step()\n",
        "\n",
        "    if epoch % 100 == 0:\n",
        "        print(f'Epoch: {epoch}/{epochs} Loss: {loss: 6f}')"
      ],
      "metadata": {
        "colab": {
          "base_uri": "https://localhost:8080/"
        },
        "id": "VtIRTSdihrRo",
        "outputId": "9e070103-21b3-48bc-f29a-a5fb5f66f219"
      },
      "execution_count": null,
      "outputs": [
        {
          "output_type": "stream",
          "name": "stdout",
          "text": [
            "Epoch: 0/1000 Loss:  10.171454\n",
            "Epoch: 100/1000 Loss:  0.142044\n",
            "Epoch: 200/1000 Loss:  0.087774\n",
            "Epoch: 300/1000 Loss:  0.054239\n",
            "Epoch: 400/1000 Loss:  0.033517\n",
            "Epoch: 500/1000 Loss:  0.020711\n",
            "Epoch: 600/1000 Loss:  0.012798\n",
            "Epoch: 700/1000 Loss:  0.007909\n",
            "Epoch: 800/1000 Loss:  0.004887\n",
            "Epoch: 900/1000 Loss:  0.003020\n",
            "Epoch: 1000/1000 Loss:  0.001866\n"
          ]
        }
      ]
    },
    {
      "cell_type": "code",
      "source": [
        "print(list(model.parameters())) # W: 1.9499, b: 0.1138"
      ],
      "metadata": {
        "colab": {
          "base_uri": "https://localhost:8080/"
        },
        "id": "3tqmqUqIltFQ",
        "outputId": "b9fcbb56-cd7e-444e-8c27-d162ba16a9fc"
      },
      "execution_count": null,
      "outputs": [
        {
          "output_type": "stream",
          "name": "stdout",
          "text": [
            "[Parameter containing:\n",
            "tensor([[1.9499]], requires_grad=True), Parameter containing:\n",
            "tensor([0.1138], requires_grad=True)]\n"
          ]
        }
      ]
    },
    {
      "cell_type": "code",
      "source": [
        "x_test = torch.FloatTensor([[5]])\n",
        "y_pred = model(x_test)\n",
        "print(y_pred)"
      ],
      "metadata": {
        "colab": {
          "base_uri": "https://localhost:8080/"
        },
        "id": "M3hsdH0ul3h4",
        "outputId": "9ed1c633-0d54-4148-a2a6-76a74d5e24c8"
      },
      "execution_count": null,
      "outputs": [
        {
          "output_type": "stream",
          "name": "stdout",
          "text": [
            "tensor([[9.8635]], grad_fn=<AddmmBackward0>)\n"
          ]
        }
      ]
    },
    {
      "cell_type": "markdown",
      "source": [
        "# 3. 다중 선형 회귀\n",
        "* 여러 개의 입력이 들어가서 한 개의 출력이 나오는 구조"
      ],
      "metadata": {
        "id": "JyhLGPBymQp5"
      }
    },
    {
      "cell_type": "code",
      "source": [
        "x_train = torch.FloatTensor([[73,80,75],\n",
        "                             [93,88,93],\n",
        "                             [89,91,90],\n",
        "                             [96,98,100],\n",
        "                             [73,66,70]])\n",
        "y_train = torch.FloatTensor([[150],[190],[180],[200],[130]])\n",
        "\n",
        "print(x_train, x_train.shape)\n",
        "print(y_train, y_train.shape)"
      ],
      "metadata": {
        "colab": {
          "base_uri": "https://localhost:8080/"
        },
        "id": "VLVjh0K_nI3Z",
        "outputId": "07b666c0-909e-43fd-a5ef-c89d740cf4ea"
      },
      "execution_count": null,
      "outputs": [
        {
          "output_type": "stream",
          "name": "stdout",
          "text": [
            "tensor([[ 73.,  80.,  75.],\n",
            "        [ 93.,  88.,  93.],\n",
            "        [ 89.,  91.,  90.],\n",
            "        [ 96.,  98., 100.],\n",
            "        [ 73.,  66.,  70.]]) torch.Size([5, 3])\n",
            "tensor([[150.],\n",
            "        [190.],\n",
            "        [180.],\n",
            "        [200.],\n",
            "        [130.]]) torch.Size([5, 1])\n"
          ]
        }
      ]
    },
    {
      "cell_type": "code",
      "source": [
        "# y = a1x + a2x + a3x .. + b (독립변수가 늘어나는 만큼 기울기의 갯수가 늘어남)\n",
        "model = nn.Linear(3, 1) # (입력, 결과)\n",
        "print(model)"
      ],
      "metadata": {
        "colab": {
          "base_uri": "https://localhost:8080/"
        },
        "id": "yi4NPnxTnuI8",
        "outputId": "03afd84c-6248-4d4f-ed18-de3f40d6ed1a"
      },
      "execution_count": null,
      "outputs": [
        {
          "output_type": "stream",
          "name": "stdout",
          "text": [
            "Linear(in_features=3, out_features=1, bias=True)\n"
          ]
        }
      ]
    },
    {
      "cell_type": "code",
      "source": [
        "optimizer = optim.SGD(model.parameters(), lr=0.00001)"
      ],
      "metadata": {
        "id": "Ev-AG83foJbI"
      },
      "execution_count": null,
      "outputs": []
    },
    {
      "cell_type": "code",
      "source": [
        "# 반복 학습을 통해 틀린 W, b를 수정하면서 오차를 계속 줄여나감\n",
        "# epochs: 반복 학습 횟수(에포크)\n",
        "epochs = 10000\n",
        "\n",
        "for epoch in range(epochs + 1):\n",
        "    y_pred = model(x_train)\n",
        "    loss = nn.MSELoss()(y_pred, y_train)\n",
        "    optimizer.zero_grad()\n",
        "    loss.backward()\n",
        "    optimizer.step()\n",
        "\n",
        "    if epoch % 100 == 0:\n",
        "        print(f'Epoch: {epoch}/{epochs} Loss: {loss: 6f}')"
      ],
      "metadata": {
        "colab": {
          "base_uri": "https://localhost:8080/"
        },
        "id": "1t1QUviSoZYS",
        "outputId": "45315e8b-b9b8-4fe6-a94d-b3bca76776e6"
      },
      "execution_count": null,
      "outputs": [
        {
          "output_type": "stream",
          "name": "stdout",
          "text": [
            "Epoch: 0/10000 Loss:  38561.125000\n",
            "Epoch: 100/10000 Loss:  43.880661\n",
            "Epoch: 200/10000 Loss:  43.343727\n",
            "Epoch: 300/10000 Loss:  42.829872\n",
            "Epoch: 400/10000 Loss:  42.337685\n",
            "Epoch: 500/10000 Loss:  41.866142\n",
            "Epoch: 600/10000 Loss:  41.414219\n",
            "Epoch: 700/10000 Loss:  40.980984\n",
            "Epoch: 800/10000 Loss:  40.565197\n",
            "Epoch: 900/10000 Loss:  40.166359\n",
            "Epoch: 1000/10000 Loss:  39.783215\n",
            "Epoch: 1100/10000 Loss:  39.415241\n",
            "Epoch: 1200/10000 Loss:  39.061520\n",
            "Epoch: 1300/10000 Loss:  38.721352\n",
            "Epoch: 1400/10000 Loss:  38.394039\n",
            "Epoch: 1500/10000 Loss:  38.079037\n",
            "Epoch: 1600/10000 Loss:  37.775555\n",
            "Epoch: 1700/10000 Loss:  37.483067\n",
            "Epoch: 1800/10000 Loss:  37.201080\n",
            "Epoch: 1900/10000 Loss:  36.929047\n",
            "Epoch: 2000/10000 Loss:  36.666267\n",
            "Epoch: 2100/10000 Loss:  36.412544\n",
            "Epoch: 2200/10000 Loss:  36.167397\n",
            "Epoch: 2300/10000 Loss:  35.930252\n",
            "Epoch: 2400/10000 Loss:  35.700775\n",
            "Epoch: 2500/10000 Loss:  35.478638\n",
            "Epoch: 2600/10000 Loss:  35.263390\n",
            "Epoch: 2700/10000 Loss:  35.054775\n",
            "Epoch: 2800/10000 Loss:  34.852394\n",
            "Epoch: 2900/10000 Loss:  34.656013\n",
            "Epoch: 3000/10000 Loss:  34.465225\n",
            "Epoch: 3100/10000 Loss:  34.279915\n",
            "Epoch: 3200/10000 Loss:  34.099678\n",
            "Epoch: 3300/10000 Loss:  33.924290\n",
            "Epoch: 3400/10000 Loss:  33.753643\n",
            "Epoch: 3500/10000 Loss:  33.587376\n",
            "Epoch: 3600/10000 Loss:  33.425301\n",
            "Epoch: 3700/10000 Loss:  33.267204\n",
            "Epoch: 3800/10000 Loss:  33.112991\n",
            "Epoch: 3900/10000 Loss:  32.962395\n",
            "Epoch: 4000/10000 Loss:  32.815300\n",
            "Epoch: 4100/10000 Loss:  32.671444\n",
            "Epoch: 4200/10000 Loss:  32.530815\n",
            "Epoch: 4300/10000 Loss:  32.393181\n",
            "Epoch: 4400/10000 Loss:  32.258480\n",
            "Epoch: 4500/10000 Loss:  32.126400\n",
            "Epoch: 4600/10000 Loss:  31.997028\n",
            "Epoch: 4700/10000 Loss:  31.870102\n",
            "Epoch: 4800/10000 Loss:  31.745564\n",
            "Epoch: 4900/10000 Loss:  31.623352\n",
            "Epoch: 5000/10000 Loss:  31.503361\n",
            "Epoch: 5100/10000 Loss:  31.385387\n",
            "Epoch: 5200/10000 Loss:  31.269455\n",
            "Epoch: 5300/10000 Loss:  31.155386\n",
            "Epoch: 5400/10000 Loss:  31.043224\n",
            "Epoch: 5500/10000 Loss:  30.932774\n",
            "Epoch: 5600/10000 Loss:  30.824055\n",
            "Epoch: 5700/10000 Loss:  30.716915\n",
            "Epoch: 5800/10000 Loss:  30.611334\n",
            "Epoch: 5900/10000 Loss:  30.507303\n",
            "Epoch: 6000/10000 Loss:  30.404682\n",
            "Epoch: 6100/10000 Loss:  30.303339\n",
            "Epoch: 6200/10000 Loss:  30.203369\n",
            "Epoch: 6300/10000 Loss:  30.104742\n",
            "Epoch: 6400/10000 Loss:  30.007236\n",
            "Epoch: 6500/10000 Loss:  29.910976\n",
            "Epoch: 6600/10000 Loss:  29.815811\n",
            "Epoch: 6700/10000 Loss:  29.721771\n",
            "Epoch: 6800/10000 Loss:  29.628819\n",
            "Epoch: 6900/10000 Loss:  29.536825\n",
            "Epoch: 7000/10000 Loss:  29.445801\n",
            "Epoch: 7100/10000 Loss:  29.355770\n",
            "Epoch: 7200/10000 Loss:  29.266705\n",
            "Epoch: 7300/10000 Loss:  29.178417\n",
            "Epoch: 7400/10000 Loss:  29.091028\n",
            "Epoch: 7500/10000 Loss:  29.004566\n",
            "Epoch: 7600/10000 Loss:  28.918858\n",
            "Epoch: 7700/10000 Loss:  28.833883\n",
            "Epoch: 7800/10000 Loss:  28.749701\n",
            "Epoch: 7900/10000 Loss:  28.666290\n",
            "Epoch: 8000/10000 Loss:  28.583557\n",
            "Epoch: 8100/10000 Loss:  28.501522\n",
            "Epoch: 8200/10000 Loss:  28.420135\n",
            "Epoch: 8300/10000 Loss:  28.339466\n",
            "Epoch: 8400/10000 Loss:  28.259365\n",
            "Epoch: 8500/10000 Loss:  28.179977\n",
            "Epoch: 8600/10000 Loss:  28.101202\n",
            "Epoch: 8700/10000 Loss:  28.023005\n",
            "Epoch: 8800/10000 Loss:  27.945362\n",
            "Epoch: 8900/10000 Loss:  27.868311\n",
            "Epoch: 9000/10000 Loss:  27.791782\n",
            "Epoch: 9100/10000 Loss:  27.715847\n",
            "Epoch: 9200/10000 Loss:  27.640408\n",
            "Epoch: 9300/10000 Loss:  27.565521\n",
            "Epoch: 9400/10000 Loss:  27.491138\n",
            "Epoch: 9500/10000 Loss:  27.417210\n",
            "Epoch: 9600/10000 Loss:  27.343838\n",
            "Epoch: 9700/10000 Loss:  27.270786\n",
            "Epoch: 9800/10000 Loss:  27.198359\n",
            "Epoch: 9900/10000 Loss:  27.126339\n",
            "Epoch: 10000/10000 Loss:  27.054819\n"
          ]
        }
      ]
    },
    {
      "cell_type": "code",
      "source": [
        "print(list(model.parameters())) # W: 0.3478, 0.6414, 1.0172, b: 0.2856"
      ],
      "metadata": {
        "colab": {
          "base_uri": "https://localhost:8080/"
        },
        "id": "Ohg0ylmzqLi7",
        "outputId": "607ce458-977f-4dd7-f0f1-39fcb3302e4c"
      },
      "execution_count": null,
      "outputs": [
        {
          "output_type": "stream",
          "name": "stdout",
          "text": [
            "[Parameter containing:\n",
            "tensor([[0.3478, 0.6414, 1.0172]], requires_grad=True), Parameter containing:\n",
            "tensor([-0.2856], requires_grad=True)]\n"
          ]
        }
      ]
    },
    {
      "cell_type": "code",
      "source": [
        "x_test = torch.FloatTensor([[93,93,93]])\n",
        "y_pred = model(x_test)\n",
        "print(y_pred)"
      ],
      "metadata": {
        "colab": {
          "base_uri": "https://localhost:8080/"
        },
        "id": "1AbtjJuWqNiW",
        "outputId": "69a6217d-9cc9-4a3c-bb94-5458529c59fd"
      },
      "execution_count": null,
      "outputs": [
        {
          "output_type": "stream",
          "name": "stdout",
          "text": [
            "tensor([[186.3026]], grad_fn=<AddmmBackward0>)\n"
          ]
        }
      ]
    },
    {
      "cell_type": "markdown",
      "source": [
        "# 4. temps.csv 데이터에서 기온에 따른 지면 온도 예측해보기"
      ],
      "metadata": {
        "id": "I-7eOGkQqx6J"
      }
    },
    {
      "cell_type": "markdown",
      "source": [
        "## 4-1. 개인답안"
      ],
      "metadata": {
        "id": "ZgNREGCtvMuN"
      }
    },
    {
      "cell_type": "code",
      "source": [
        "import pandas as pd\n",
        "import numpy as np"
      ],
      "metadata": {
        "id": "nzrZ5HI2tgjv"
      },
      "execution_count": null,
      "outputs": []
    },
    {
      "cell_type": "code",
      "source": [
        "temp_df = pd.read_csv('/content/drive/MyDrive/00. C.V_23.10/04. 머신러닝과 딥러닝/DATA/temps.csv', encoding='cp949')\n",
        "temp_df"
      ],
      "metadata": {
        "colab": {
          "base_uri": "https://localhost:8080/",
          "height": 423
        },
        "id": "ByWufPQpt8CZ",
        "outputId": "69c8f31e-6c12-4b08-8e51-1cc584b89441"
      },
      "execution_count": null,
      "outputs": [
        {
          "output_type": "execute_result",
          "data": {
            "text/plain": [
              "       지점 지점명                일시  기온(°C)  지면온도(°C)\n",
              "0     232  천안  2020-01-01 01:00    -8.7      -2.9\n",
              "1     232  천안  2020-01-01 02:00    -7.3      -2.4\n",
              "2     232  천안  2020-01-01 03:00    -6.7      -2.2\n",
              "3     232  천안  2020-01-01 04:00    -6.2      -2.0\n",
              "4     232  천안  2020-01-01 05:00    -5.9      -1.9\n",
              "...   ...  ..               ...     ...       ...\n",
              "8777  232  천안  2020-12-31 19:00    -6.6      -0.6\n",
              "8778  232  천안  2020-12-31 20:00    -6.4      -0.7\n",
              "8779  232  천안  2020-12-31 21:00    -7.3      -1.2\n",
              "8780  232  천안  2020-12-31 22:00    -9.0      -1.5\n",
              "8781  232  천안  2020-12-31 23:00    -9.2      -1.2\n",
              "\n",
              "[8782 rows x 5 columns]"
            ],
            "text/html": [
              "\n",
              "  <div id=\"df-1a57d858-1104-43a5-9bcd-1565af7678ec\" class=\"colab-df-container\">\n",
              "    <div>\n",
              "<style scoped>\n",
              "    .dataframe tbody tr th:only-of-type {\n",
              "        vertical-align: middle;\n",
              "    }\n",
              "\n",
              "    .dataframe tbody tr th {\n",
              "        vertical-align: top;\n",
              "    }\n",
              "\n",
              "    .dataframe thead th {\n",
              "        text-align: right;\n",
              "    }\n",
              "</style>\n",
              "<table border=\"1\" class=\"dataframe\">\n",
              "  <thead>\n",
              "    <tr style=\"text-align: right;\">\n",
              "      <th></th>\n",
              "      <th>지점</th>\n",
              "      <th>지점명</th>\n",
              "      <th>일시</th>\n",
              "      <th>기온(°C)</th>\n",
              "      <th>지면온도(°C)</th>\n",
              "    </tr>\n",
              "  </thead>\n",
              "  <tbody>\n",
              "    <tr>\n",
              "      <th>0</th>\n",
              "      <td>232</td>\n",
              "      <td>천안</td>\n",
              "      <td>2020-01-01 01:00</td>\n",
              "      <td>-8.7</td>\n",
              "      <td>-2.9</td>\n",
              "    </tr>\n",
              "    <tr>\n",
              "      <th>1</th>\n",
              "      <td>232</td>\n",
              "      <td>천안</td>\n",
              "      <td>2020-01-01 02:00</td>\n",
              "      <td>-7.3</td>\n",
              "      <td>-2.4</td>\n",
              "    </tr>\n",
              "    <tr>\n",
              "      <th>2</th>\n",
              "      <td>232</td>\n",
              "      <td>천안</td>\n",
              "      <td>2020-01-01 03:00</td>\n",
              "      <td>-6.7</td>\n",
              "      <td>-2.2</td>\n",
              "    </tr>\n",
              "    <tr>\n",
              "      <th>3</th>\n",
              "      <td>232</td>\n",
              "      <td>천안</td>\n",
              "      <td>2020-01-01 04:00</td>\n",
              "      <td>-6.2</td>\n",
              "      <td>-2.0</td>\n",
              "    </tr>\n",
              "    <tr>\n",
              "      <th>4</th>\n",
              "      <td>232</td>\n",
              "      <td>천안</td>\n",
              "      <td>2020-01-01 05:00</td>\n",
              "      <td>-5.9</td>\n",
              "      <td>-1.9</td>\n",
              "    </tr>\n",
              "    <tr>\n",
              "      <th>...</th>\n",
              "      <td>...</td>\n",
              "      <td>...</td>\n",
              "      <td>...</td>\n",
              "      <td>...</td>\n",
              "      <td>...</td>\n",
              "    </tr>\n",
              "    <tr>\n",
              "      <th>8777</th>\n",
              "      <td>232</td>\n",
              "      <td>천안</td>\n",
              "      <td>2020-12-31 19:00</td>\n",
              "      <td>-6.6</td>\n",
              "      <td>-0.6</td>\n",
              "    </tr>\n",
              "    <tr>\n",
              "      <th>8778</th>\n",
              "      <td>232</td>\n",
              "      <td>천안</td>\n",
              "      <td>2020-12-31 20:00</td>\n",
              "      <td>-6.4</td>\n",
              "      <td>-0.7</td>\n",
              "    </tr>\n",
              "    <tr>\n",
              "      <th>8779</th>\n",
              "      <td>232</td>\n",
              "      <td>천안</td>\n",
              "      <td>2020-12-31 21:00</td>\n",
              "      <td>-7.3</td>\n",
              "      <td>-1.2</td>\n",
              "    </tr>\n",
              "    <tr>\n",
              "      <th>8780</th>\n",
              "      <td>232</td>\n",
              "      <td>천안</td>\n",
              "      <td>2020-12-31 22:00</td>\n",
              "      <td>-9.0</td>\n",
              "      <td>-1.5</td>\n",
              "    </tr>\n",
              "    <tr>\n",
              "      <th>8781</th>\n",
              "      <td>232</td>\n",
              "      <td>천안</td>\n",
              "      <td>2020-12-31 23:00</td>\n",
              "      <td>-9.2</td>\n",
              "      <td>-1.2</td>\n",
              "    </tr>\n",
              "  </tbody>\n",
              "</table>\n",
              "<p>8782 rows × 5 columns</p>\n",
              "</div>\n",
              "    <div class=\"colab-df-buttons\">\n",
              "\n",
              "  <div class=\"colab-df-container\">\n",
              "    <button class=\"colab-df-convert\" onclick=\"convertToInteractive('df-1a57d858-1104-43a5-9bcd-1565af7678ec')\"\n",
              "            title=\"Convert this dataframe to an interactive table.\"\n",
              "            style=\"display:none;\">\n",
              "\n",
              "  <svg xmlns=\"http://www.w3.org/2000/svg\" height=\"24px\" viewBox=\"0 -960 960 960\">\n",
              "    <path d=\"M120-120v-720h720v720H120Zm60-500h600v-160H180v160Zm220 220h160v-160H400v160Zm0 220h160v-160H400v160ZM180-400h160v-160H180v160Zm440 0h160v-160H620v160ZM180-180h160v-160H180v160Zm440 0h160v-160H620v160Z\"/>\n",
              "  </svg>\n",
              "    </button>\n",
              "\n",
              "  <style>\n",
              "    .colab-df-container {\n",
              "      display:flex;\n",
              "      gap: 12px;\n",
              "    }\n",
              "\n",
              "    .colab-df-convert {\n",
              "      background-color: #E8F0FE;\n",
              "      border: none;\n",
              "      border-radius: 50%;\n",
              "      cursor: pointer;\n",
              "      display: none;\n",
              "      fill: #1967D2;\n",
              "      height: 32px;\n",
              "      padding: 0 0 0 0;\n",
              "      width: 32px;\n",
              "    }\n",
              "\n",
              "    .colab-df-convert:hover {\n",
              "      background-color: #E2EBFA;\n",
              "      box-shadow: 0px 1px 2px rgba(60, 64, 67, 0.3), 0px 1px 3px 1px rgba(60, 64, 67, 0.15);\n",
              "      fill: #174EA6;\n",
              "    }\n",
              "\n",
              "    .colab-df-buttons div {\n",
              "      margin-bottom: 4px;\n",
              "    }\n",
              "\n",
              "    [theme=dark] .colab-df-convert {\n",
              "      background-color: #3B4455;\n",
              "      fill: #D2E3FC;\n",
              "    }\n",
              "\n",
              "    [theme=dark] .colab-df-convert:hover {\n",
              "      background-color: #434B5C;\n",
              "      box-shadow: 0px 1px 3px 1px rgba(0, 0, 0, 0.15);\n",
              "      filter: drop-shadow(0px 1px 2px rgba(0, 0, 0, 0.3));\n",
              "      fill: #FFFFFF;\n",
              "    }\n",
              "  </style>\n",
              "\n",
              "    <script>\n",
              "      const buttonEl =\n",
              "        document.querySelector('#df-1a57d858-1104-43a5-9bcd-1565af7678ec button.colab-df-convert');\n",
              "      buttonEl.style.display =\n",
              "        google.colab.kernel.accessAllowed ? 'block' : 'none';\n",
              "\n",
              "      async function convertToInteractive(key) {\n",
              "        const element = document.querySelector('#df-1a57d858-1104-43a5-9bcd-1565af7678ec');\n",
              "        const dataTable =\n",
              "          await google.colab.kernel.invokeFunction('convertToInteractive',\n",
              "                                                    [key], {});\n",
              "        if (!dataTable) return;\n",
              "\n",
              "        const docLinkHtml = 'Like what you see? Visit the ' +\n",
              "          '<a target=\"_blank\" href=https://colab.research.google.com/notebooks/data_table.ipynb>data table notebook</a>'\n",
              "          + ' to learn more about interactive tables.';\n",
              "        element.innerHTML = '';\n",
              "        dataTable['output_type'] = 'display_data';\n",
              "        await google.colab.output.renderOutput(dataTable, element);\n",
              "        const docLink = document.createElement('div');\n",
              "        docLink.innerHTML = docLinkHtml;\n",
              "        element.appendChild(docLink);\n",
              "      }\n",
              "    </script>\n",
              "  </div>\n",
              "\n",
              "\n",
              "<div id=\"df-178bf703-e959-45ac-8f08-cd76ffcee4c2\">\n",
              "  <button class=\"colab-df-quickchart\" onclick=\"quickchart('df-178bf703-e959-45ac-8f08-cd76ffcee4c2')\"\n",
              "            title=\"Suggest charts\"\n",
              "            style=\"display:none;\">\n",
              "\n",
              "<svg xmlns=\"http://www.w3.org/2000/svg\" height=\"24px\"viewBox=\"0 0 24 24\"\n",
              "     width=\"24px\">\n",
              "    <g>\n",
              "        <path d=\"M19 3H5c-1.1 0-2 .9-2 2v14c0 1.1.9 2 2 2h14c1.1 0 2-.9 2-2V5c0-1.1-.9-2-2-2zM9 17H7v-7h2v7zm4 0h-2V7h2v10zm4 0h-2v-4h2v4z\"/>\n",
              "    </g>\n",
              "</svg>\n",
              "  </button>\n",
              "\n",
              "<style>\n",
              "  .colab-df-quickchart {\n",
              "      --bg-color: #E8F0FE;\n",
              "      --fill-color: #1967D2;\n",
              "      --hover-bg-color: #E2EBFA;\n",
              "      --hover-fill-color: #174EA6;\n",
              "      --disabled-fill-color: #AAA;\n",
              "      --disabled-bg-color: #DDD;\n",
              "  }\n",
              "\n",
              "  [theme=dark] .colab-df-quickchart {\n",
              "      --bg-color: #3B4455;\n",
              "      --fill-color: #D2E3FC;\n",
              "      --hover-bg-color: #434B5C;\n",
              "      --hover-fill-color: #FFFFFF;\n",
              "      --disabled-bg-color: #3B4455;\n",
              "      --disabled-fill-color: #666;\n",
              "  }\n",
              "\n",
              "  .colab-df-quickchart {\n",
              "    background-color: var(--bg-color);\n",
              "    border: none;\n",
              "    border-radius: 50%;\n",
              "    cursor: pointer;\n",
              "    display: none;\n",
              "    fill: var(--fill-color);\n",
              "    height: 32px;\n",
              "    padding: 0;\n",
              "    width: 32px;\n",
              "  }\n",
              "\n",
              "  .colab-df-quickchart:hover {\n",
              "    background-color: var(--hover-bg-color);\n",
              "    box-shadow: 0 1px 2px rgba(60, 64, 67, 0.3), 0 1px 3px 1px rgba(60, 64, 67, 0.15);\n",
              "    fill: var(--button-hover-fill-color);\n",
              "  }\n",
              "\n",
              "  .colab-df-quickchart-complete:disabled,\n",
              "  .colab-df-quickchart-complete:disabled:hover {\n",
              "    background-color: var(--disabled-bg-color);\n",
              "    fill: var(--disabled-fill-color);\n",
              "    box-shadow: none;\n",
              "  }\n",
              "\n",
              "  .colab-df-spinner {\n",
              "    border: 2px solid var(--fill-color);\n",
              "    border-color: transparent;\n",
              "    border-bottom-color: var(--fill-color);\n",
              "    animation:\n",
              "      spin 1s steps(1) infinite;\n",
              "  }\n",
              "\n",
              "  @keyframes spin {\n",
              "    0% {\n",
              "      border-color: transparent;\n",
              "      border-bottom-color: var(--fill-color);\n",
              "      border-left-color: var(--fill-color);\n",
              "    }\n",
              "    20% {\n",
              "      border-color: transparent;\n",
              "      border-left-color: var(--fill-color);\n",
              "      border-top-color: var(--fill-color);\n",
              "    }\n",
              "    30% {\n",
              "      border-color: transparent;\n",
              "      border-left-color: var(--fill-color);\n",
              "      border-top-color: var(--fill-color);\n",
              "      border-right-color: var(--fill-color);\n",
              "    }\n",
              "    40% {\n",
              "      border-color: transparent;\n",
              "      border-right-color: var(--fill-color);\n",
              "      border-top-color: var(--fill-color);\n",
              "    }\n",
              "    60% {\n",
              "      border-color: transparent;\n",
              "      border-right-color: var(--fill-color);\n",
              "    }\n",
              "    80% {\n",
              "      border-color: transparent;\n",
              "      border-right-color: var(--fill-color);\n",
              "      border-bottom-color: var(--fill-color);\n",
              "    }\n",
              "    90% {\n",
              "      border-color: transparent;\n",
              "      border-bottom-color: var(--fill-color);\n",
              "    }\n",
              "  }\n",
              "</style>\n",
              "\n",
              "  <script>\n",
              "    async function quickchart(key) {\n",
              "      const quickchartButtonEl =\n",
              "        document.querySelector('#' + key + ' button');\n",
              "      quickchartButtonEl.disabled = true;  // To prevent multiple clicks.\n",
              "      quickchartButtonEl.classList.add('colab-df-spinner');\n",
              "      try {\n",
              "        const charts = await google.colab.kernel.invokeFunction(\n",
              "            'suggestCharts', [key], {});\n",
              "      } catch (error) {\n",
              "        console.error('Error during call to suggestCharts:', error);\n",
              "      }\n",
              "      quickchartButtonEl.classList.remove('colab-df-spinner');\n",
              "      quickchartButtonEl.classList.add('colab-df-quickchart-complete');\n",
              "    }\n",
              "    (() => {\n",
              "      let quickchartButtonEl =\n",
              "        document.querySelector('#df-178bf703-e959-45ac-8f08-cd76ffcee4c2 button');\n",
              "      quickchartButtonEl.style.display =\n",
              "        google.colab.kernel.accessAllowed ? 'block' : 'none';\n",
              "    })();\n",
              "  </script>\n",
              "</div>\n",
              "\n",
              "  <div id=\"id_7d4fd152-6b91-4366-8b39-5d2bc6a897b8\">\n",
              "    <style>\n",
              "      .colab-df-generate {\n",
              "        background-color: #E8F0FE;\n",
              "        border: none;\n",
              "        border-radius: 50%;\n",
              "        cursor: pointer;\n",
              "        display: none;\n",
              "        fill: #1967D2;\n",
              "        height: 32px;\n",
              "        padding: 0 0 0 0;\n",
              "        width: 32px;\n",
              "      }\n",
              "\n",
              "      .colab-df-generate:hover {\n",
              "        background-color: #E2EBFA;\n",
              "        box-shadow: 0px 1px 2px rgba(60, 64, 67, 0.3), 0px 1px 3px 1px rgba(60, 64, 67, 0.15);\n",
              "        fill: #174EA6;\n",
              "      }\n",
              "\n",
              "      [theme=dark] .colab-df-generate {\n",
              "        background-color: #3B4455;\n",
              "        fill: #D2E3FC;\n",
              "      }\n",
              "\n",
              "      [theme=dark] .colab-df-generate:hover {\n",
              "        background-color: #434B5C;\n",
              "        box-shadow: 0px 1px 3px 1px rgba(0, 0, 0, 0.15);\n",
              "        filter: drop-shadow(0px 1px 2px rgba(0, 0, 0, 0.3));\n",
              "        fill: #FFFFFF;\n",
              "      }\n",
              "    </style>\n",
              "    <button class=\"colab-df-generate\" onclick=\"generateWithVariable('temp_df')\"\n",
              "            title=\"Generate code using this dataframe.\"\n",
              "            style=\"display:none;\">\n",
              "\n",
              "  <svg xmlns=\"http://www.w3.org/2000/svg\" height=\"24px\"viewBox=\"0 0 24 24\"\n",
              "       width=\"24px\">\n",
              "    <path d=\"M7,19H8.4L18.45,9,17,7.55,7,17.6ZM5,21V16.75L18.45,3.32a2,2,0,0,1,2.83,0l1.4,1.43a1.91,1.91,0,0,1,.58,1.4,1.91,1.91,0,0,1-.58,1.4L9.25,21ZM18.45,9,17,7.55Zm-12,3A5.31,5.31,0,0,0,4.9,8.1,5.31,5.31,0,0,0,1,6.5,5.31,5.31,0,0,0,4.9,4.9,5.31,5.31,0,0,0,6.5,1,5.31,5.31,0,0,0,8.1,4.9,5.31,5.31,0,0,0,12,6.5,5.46,5.46,0,0,0,6.5,12Z\"/>\n",
              "  </svg>\n",
              "    </button>\n",
              "    <script>\n",
              "      (() => {\n",
              "      const buttonEl =\n",
              "        document.querySelector('#id_7d4fd152-6b91-4366-8b39-5d2bc6a897b8 button.colab-df-generate');\n",
              "      buttonEl.style.display =\n",
              "        google.colab.kernel.accessAllowed ? 'block' : 'none';\n",
              "\n",
              "      buttonEl.onclick = () => {\n",
              "        google.colab.notebook.generateWithVariable('temp_df');\n",
              "      }\n",
              "      })();\n",
              "    </script>\n",
              "  </div>\n",
              "\n",
              "    </div>\n",
              "  </div>\n"
            ]
          },
          "metadata": {},
          "execution_count": 185
        }
      ]
    },
    {
      "cell_type": "code",
      "source": [
        "a = torch.tensor(temp_df['기온(°C)'].values.reshape(8782,1))\n",
        "print(a, a.shape)"
      ],
      "metadata": {
        "colab": {
          "base_uri": "https://localhost:8080/"
        },
        "id": "gelnSTWKw3ej",
        "outputId": "ed09d2f0-ebd4-40fe-c24e-39dfd58ac7ee"
      },
      "execution_count": null,
      "outputs": [
        {
          "output_type": "stream",
          "name": "stdout",
          "text": [
            "tensor([[-8.7000],\n",
            "        [-7.3000],\n",
            "        [-6.7000],\n",
            "        ...,\n",
            "        [-7.3000],\n",
            "        [-9.0000],\n",
            "        [-9.2000]], dtype=torch.float64) torch.Size([8782, 1])\n"
          ]
        }
      ]
    },
    {
      "cell_type": "code",
      "source": [
        "x_train = torch.FloatTensor(np.array(temp_df['기온(°C)']))\n",
        "y_train = torch.FloatTensor(temp_df['지면온도(°C)'])\n",
        "print(x_train, x_train.shape)\n",
        "print(y_train, y_train.shape)"
      ],
      "metadata": {
        "id": "EFWUDIpjuC1r",
        "colab": {
          "base_uri": "https://localhost:8080/"
        },
        "outputId": "1ff8fefc-b0e8-4bf7-e663-fbe46516d68a"
      },
      "execution_count": null,
      "outputs": [
        {
          "output_type": "stream",
          "name": "stdout",
          "text": [
            "tensor([-8.7000, -7.3000, -6.7000,  ..., -7.3000, -9.0000, -9.2000]) torch.Size([8782])\n",
            "tensor([-2.9000, -2.4000, -2.2000,  ..., -1.2000, -1.5000, -1.2000]) torch.Size([8782])\n"
          ]
        }
      ]
    },
    {
      "cell_type": "code",
      "source": [
        "plt.figure(figsize=(6,4))\n",
        "plt.scatter(x_train, y_train)"
      ],
      "metadata": {
        "colab": {
          "base_uri": "https://localhost:8080/",
          "height": 386
        },
        "id": "vYe4n9wjvEbc",
        "outputId": "3ba03504-9ce6-4b3c-934e-1e56b33d27c7"
      },
      "execution_count": null,
      "outputs": [
        {
          "output_type": "execute_result",
          "data": {
            "text/plain": [
              "<matplotlib.collections.PathCollection at 0x7ede41a939d0>"
            ]
          },
          "metadata": {},
          "execution_count": 188
        },
        {
          "output_type": "display_data",
          "data": {
            "text/plain": [
              "<Figure size 600x400 with 1 Axes>"
            ],
            "image/png": "[encoded data removed]"
          },
          "metadata": {}
        }
      ]
    },
    {
      "cell_type": "code",
      "source": [
        "model = nn.Linear(1,1)\n",
        "print(model)"
      ],
      "metadata": {
        "colab": {
          "base_uri": "https://localhost:8080/"
        },
        "id": "NED890RXvWD4",
        "outputId": "71d1be63-5d1d-464f-bac8-266e26d4a8f3"
      },
      "execution_count": null,
      "outputs": [
        {
          "output_type": "stream",
          "name": "stdout",
          "text": [
            "Linear(in_features=1, out_features=1, bias=True)\n"
          ]
        }
      ]
    },
    {
      "cell_type": "markdown",
      "source": [
        "## 4-2. 수업답안"
      ],
      "metadata": {
        "id": "Vpnd3sUsverh"
      }
    },
    {
      "cell_type": "code",
      "source": [
        "import pandas as pd"
      ],
      "metadata": {
        "id": "HlprOgxlx2yI"
      },
      "execution_count": null,
      "outputs": []
    },
    {
      "cell_type": "code",
      "source": [
        "df = pd.read_csv('/content/drive/MyDrive/00. C.V_23.10/04. 머신러닝과 딥러닝/DATA/temps.csv', encoding='euc-kr')\n",
        "df"
      ],
      "metadata": {
        "colab": {
          "base_uri": "https://localhost:8080/",
          "height": 423
        },
        "id": "_0rkMfmCx4T2",
        "outputId": "59243c24-6342-46d4-9af4-b553080ea1bf"
      },
      "execution_count": null,
      "outputs": [
        {
          "output_type": "execute_result",
          "data": {
            "text/plain": [
              "       지점 지점명                일시  기온(°C)  지면온도(°C)\n",
              "0     232  천안  2020-01-01 01:00    -8.7      -2.9\n",
              "1     232  천안  2020-01-01 02:00    -7.3      -2.4\n",
              "2     232  천안  2020-01-01 03:00    -6.7      -2.2\n",
              "3     232  천안  2020-01-01 04:00    -6.2      -2.0\n",
              "4     232  천안  2020-01-01 05:00    -5.9      -1.9\n",
              "...   ...  ..               ...     ...       ...\n",
              "8777  232  천안  2020-12-31 19:00    -6.6      -0.6\n",
              "8778  232  천안  2020-12-31 20:00    -6.4      -0.7\n",
              "8779  232  천안  2020-12-31 21:00    -7.3      -1.2\n",
              "8780  232  천안  2020-12-31 22:00    -9.0      -1.5\n",
              "8781  232  천안  2020-12-31 23:00    -9.2      -1.2\n",
              "\n",
              "[8782 rows x 5 columns]"
            ],
            "text/html": [
              "\n",
              "  <div id=\"df-3a667586-6da6-4166-adf5-c91f9c33f580\" class=\"colab-df-container\">\n",
              "    <div>\n",
              "<style scoped>\n",
              "    .dataframe tbody tr th:only-of-type {\n",
              "        vertical-align: middle;\n",
              "    }\n",
              "\n",
              "    .dataframe tbody tr th {\n",
              "        vertical-align: top;\n",
              "    }\n",
              "\n",
              "    .dataframe thead th {\n",
              "        text-align: right;\n",
              "    }\n",
              "</style>\n",
              "<table border=\"1\" class=\"dataframe\">\n",
              "  <thead>\n",
              "    <tr style=\"text-align: right;\">\n",
              "      <th></th>\n",
              "      <th>지점</th>\n",
              "      <th>지점명</th>\n",
              "      <th>일시</th>\n",
              "      <th>기온(°C)</th>\n",
              "      <th>지면온도(°C)</th>\n",
              "    </tr>\n",
              "  </thead>\n",
              "  <tbody>\n",
              "    <tr>\n",
              "      <th>0</th>\n",
              "      <td>232</td>\n",
              "      <td>천안</td>\n",
              "      <td>2020-01-01 01:00</td>\n",
              "      <td>-8.7</td>\n",
              "      <td>-2.9</td>\n",
              "    </tr>\n",
              "    <tr>\n",
              "      <th>1</th>\n",
              "      <td>232</td>\n",
              "      <td>천안</td>\n",
              "      <td>2020-01-01 02:00</td>\n",
              "      <td>-7.3</td>\n",
              "      <td>-2.4</td>\n",
              "    </tr>\n",
              "    <tr>\n",
              "      <th>2</th>\n",
              "      <td>232</td>\n",
              "      <td>천안</td>\n",
              "      <td>2020-01-01 03:00</td>\n",
              "      <td>-6.7</td>\n",
              "      <td>-2.2</td>\n",
              "    </tr>\n",
              "    <tr>\n",
              "      <th>3</th>\n",
              "      <td>232</td>\n",
              "      <td>천안</td>\n",
              "      <td>2020-01-01 04:00</td>\n",
              "      <td>-6.2</td>\n",
              "      <td>-2.0</td>\n",
              "    </tr>\n",
              "    <tr>\n",
              "      <th>4</th>\n",
              "      <td>232</td>\n",
              "      <td>천안</td>\n",
              "      <td>2020-01-01 05:00</td>\n",
              "      <td>-5.9</td>\n",
              "      <td>-1.9</td>\n",
              "    </tr>\n",
              "    <tr>\n",
              "      <th>...</th>\n",
              "      <td>...</td>\n",
              "      <td>...</td>\n",
              "      <td>...</td>\n",
              "      <td>...</td>\n",
              "      <td>...</td>\n",
              "    </tr>\n",
              "    <tr>\n",
              "      <th>8777</th>\n",
              "      <td>232</td>\n",
              "      <td>천안</td>\n",
              "      <td>2020-12-31 19:00</td>\n",
              "      <td>-6.6</td>\n",
              "      <td>-0.6</td>\n",
              "    </tr>\n",
              "    <tr>\n",
              "      <th>8778</th>\n",
              "      <td>232</td>\n",
              "      <td>천안</td>\n",
              "      <td>2020-12-31 20:00</td>\n",
              "      <td>-6.4</td>\n",
              "      <td>-0.7</td>\n",
              "    </tr>\n",
              "    <tr>\n",
              "      <th>8779</th>\n",
              "      <td>232</td>\n",
              "      <td>천안</td>\n",
              "      <td>2020-12-31 21:00</td>\n",
              "      <td>-7.3</td>\n",
              "      <td>-1.2</td>\n",
              "    </tr>\n",
              "    <tr>\n",
              "      <th>8780</th>\n",
              "      <td>232</td>\n",
              "      <td>천안</td>\n",
              "      <td>2020-12-31 22:00</td>\n",
              "      <td>-9.0</td>\n",
              "      <td>-1.5</td>\n",
              "    </tr>\n",
              "    <tr>\n",
              "      <th>8781</th>\n",
              "      <td>232</td>\n",
              "      <td>천안</td>\n",
              "      <td>2020-12-31 23:00</td>\n",
              "      <td>-9.2</td>\n",
              "      <td>-1.2</td>\n",
              "    </tr>\n",
              "  </tbody>\n",
              "</table>\n",
              "<p>8782 rows × 5 columns</p>\n",
              "</div>\n",
              "    <div class=\"colab-df-buttons\">\n",
              "\n",
              "  <div class=\"colab-df-container\">\n",
              "    <button class=\"colab-df-convert\" onclick=\"convertToInteractive('df-3a667586-6da6-4166-adf5-c91f9c33f580')\"\n",
              "            title=\"Convert this dataframe to an interactive table.\"\n",
              "            style=\"display:none;\">\n",
              "\n",
              "  <svg xmlns=\"http://www.w3.org/2000/svg\" height=\"24px\" viewBox=\"0 -960 960 960\">\n",
              "    <path d=\"M120-120v-720h720v720H120Zm60-500h600v-160H180v160Zm220 220h160v-160H400v160Zm0 220h160v-160H400v160ZM180-400h160v-160H180v160Zm440 0h160v-160H620v160ZM180-180h160v-160H180v160Zm440 0h160v-160H620v160Z\"/>\n",
              "  </svg>\n",
              "    </button>\n",
              "\n",
              "  <style>\n",
              "    .colab-df-container {\n",
              "      display:flex;\n",
              "      gap: 12px;\n",
              "    }\n",
              "\n",
              "    .colab-df-convert {\n",
              "      background-color: #E8F0FE;\n",
              "      border: none;\n",
              "      border-radius: 50%;\n",
              "      cursor: pointer;\n",
              "      display: none;\n",
              "      fill: #1967D2;\n",
              "      height: 32px;\n",
              "      padding: 0 0 0 0;\n",
              "      width: 32px;\n",
              "    }\n",
              "\n",
              "    .colab-df-convert:hover {\n",
              "      background-color: #E2EBFA;\n",
              "      box-shadow: 0px 1px 2px rgba(60, 64, 67, 0.3), 0px 1px 3px 1px rgba(60, 64, 67, 0.15);\n",
              "      fill: #174EA6;\n",
              "    }\n",
              "\n",
              "    .colab-df-buttons div {\n",
              "      margin-bottom: 4px;\n",
              "    }\n",
              "\n",
              "    [theme=dark] .colab-df-convert {\n",
              "      background-color: #3B4455;\n",
              "      fill: #D2E3FC;\n",
              "    }\n",
              "\n",
              "    [theme=dark] .colab-df-convert:hover {\n",
              "      background-color: #434B5C;\n",
              "      box-shadow: 0px 1px 3px 1px rgba(0, 0, 0, 0.15);\n",
              "      filter: drop-shadow(0px 1px 2px rgba(0, 0, 0, 0.3));\n",
              "      fill: #FFFFFF;\n",
              "    }\n",
              "  </style>\n",
              "\n",
              "    <script>\n",
              "      const buttonEl =\n",
              "        document.querySelector('#df-3a667586-6da6-4166-adf5-c91f9c33f580 button.colab-df-convert');\n",
              "      buttonEl.style.display =\n",
              "        google.colab.kernel.accessAllowed ? 'block' : 'none';\n",
              "\n",
              "      async function convertToInteractive(key) {\n",
              "        const element = document.querySelector('#df-3a667586-6da6-4166-adf5-c91f9c33f580');\n",
              "        const dataTable =\n",
              "          await google.colab.kernel.invokeFunction('convertToInteractive',\n",
              "                                                    [key], {});\n",
              "        if (!dataTable) return;\n",
              "\n",
              "        const docLinkHtml = 'Like what you see? Visit the ' +\n",
              "          '<a target=\"_blank\" href=https://colab.research.google.com/notebooks/data_table.ipynb>data table notebook</a>'\n",
              "          + ' to learn more about interactive tables.';\n",
              "        element.innerHTML = '';\n",
              "        dataTable['output_type'] = 'display_data';\n",
              "        await google.colab.output.renderOutput(dataTable, element);\n",
              "        const docLink = document.createElement('div');\n",
              "        docLink.innerHTML = docLinkHtml;\n",
              "        element.appendChild(docLink);\n",
              "      }\n",
              "    </script>\n",
              "  </div>\n",
              "\n",
              "\n",
              "<div id=\"df-5c6c771f-9fcd-4b30-938e-67b5480cae60\">\n",
              "  <button class=\"colab-df-quickchart\" onclick=\"quickchart('df-5c6c771f-9fcd-4b30-938e-67b5480cae60')\"\n",
              "            title=\"Suggest charts\"\n",
              "            style=\"display:none;\">\n",
              "\n",
              "<svg xmlns=\"http://www.w3.org/2000/svg\" height=\"24px\"viewBox=\"0 0 24 24\"\n",
              "     width=\"24px\">\n",
              "    <g>\n",
              "        <path d=\"M19 3H5c-1.1 0-2 .9-2 2v14c0 1.1.9 2 2 2h14c1.1 0 2-.9 2-2V5c0-1.1-.9-2-2-2zM9 17H7v-7h2v7zm4 0h-2V7h2v10zm4 0h-2v-4h2v4z\"/>\n",
              "    </g>\n",
              "</svg>\n",
              "  </button>\n",
              "\n",
              "<style>\n",
              "  .colab-df-quickchart {\n",
              "      --bg-color: #E8F0FE;\n",
              "      --fill-color: #1967D2;\n",
              "      --hover-bg-color: #E2EBFA;\n",
              "      --hover-fill-color: #174EA6;\n",
              "      --disabled-fill-color: #AAA;\n",
              "      --disabled-bg-color: #DDD;\n",
              "  }\n",
              "\n",
              "  [theme=dark] .colab-df-quickchart {\n",
              "      --bg-color: #3B4455;\n",
              "      --fill-color: #D2E3FC;\n",
              "      --hover-bg-color: #434B5C;\n",
              "      --hover-fill-color: #FFFFFF;\n",
              "      --disabled-bg-color: #3B4455;\n",
              "      --disabled-fill-color: #666;\n",
              "  }\n",
              "\n",
              "  .colab-df-quickchart {\n",
              "    background-color: var(--bg-color);\n",
              "    border: none;\n",
              "    border-radius: 50%;\n",
              "    cursor: pointer;\n",
              "    display: none;\n",
              "    fill: var(--fill-color);\n",
              "    height: 32px;\n",
              "    padding: 0;\n",
              "    width: 32px;\n",
              "  }\n",
              "\n",
              "  .colab-df-quickchart:hover {\n",
              "    background-color: var(--hover-bg-color);\n",
              "    box-shadow: 0 1px 2px rgba(60, 64, 67, 0.3), 0 1px 3px 1px rgba(60, 64, 67, 0.15);\n",
              "    fill: var(--button-hover-fill-color);\n",
              "  }\n",
              "\n",
              "  .colab-df-quickchart-complete:disabled,\n",
              "  .colab-df-quickchart-complete:disabled:hover {\n",
              "    background-color: var(--disabled-bg-color);\n",
              "    fill: var(--disabled-fill-color);\n",
              "    box-shadow: none;\n",
              "  }\n",
              "\n",
              "  .colab-df-spinner {\n",
              "    border: 2px solid var(--fill-color);\n",
              "    border-color: transparent;\n",
              "    border-bottom-color: var(--fill-color);\n",
              "    animation:\n",
              "      spin 1s steps(1) infinite;\n",
              "  }\n",
              "\n",
              "  @keyframes spin {\n",
              "    0% {\n",
              "      border-color: transparent;\n",
              "      border-bottom-color: var(--fill-color);\n",
              "      border-left-color: var(--fill-color);\n",
              "    }\n",
              "    20% {\n",
              "      border-color: transparent;\n",
              "      border-left-color: var(--fill-color);\n",
              "      border-top-color: var(--fill-color);\n",
              "    }\n",
              "    30% {\n",
              "      border-color: transparent;\n",
              "      border-left-color: var(--fill-color);\n",
              "      border-top-color: var(--fill-color);\n",
              "      border-right-color: var(--fill-color);\n",
              "    }\n",
              "    40% {\n",
              "      border-color: transparent;\n",
              "      border-right-color: var(--fill-color);\n",
              "      border-top-color: var(--fill-color);\n",
              "    }\n",
              "    60% {\n",
              "      border-color: transparent;\n",
              "      border-right-color: var(--fill-color);\n",
              "    }\n",
              "    80% {\n",
              "      border-color: transparent;\n",
              "      border-right-color: var(--fill-color);\n",
              "      border-bottom-color: var(--fill-color);\n",
              "    }\n",
              "    90% {\n",
              "      border-color: transparent;\n",
              "      border-bottom-color: var(--fill-color);\n",
              "    }\n",
              "  }\n",
              "</style>\n",
              "\n",
              "  <script>\n",
              "    async function quickchart(key) {\n",
              "      const quickchartButtonEl =\n",
              "        document.querySelector('#' + key + ' button');\n",
              "      quickchartButtonEl.disabled = true;  // To prevent multiple clicks.\n",
              "      quickchartButtonEl.classList.add('colab-df-spinner');\n",
              "      try {\n",
              "        const charts = await google.colab.kernel.invokeFunction(\n",
              "            'suggestCharts', [key], {});\n",
              "      } catch (error) {\n",
              "        console.error('Error during call to suggestCharts:', error);\n",
              "      }\n",
              "      quickchartButtonEl.classList.remove('colab-df-spinner');\n",
              "      quickchartButtonEl.classList.add('colab-df-quickchart-complete');\n",
              "    }\n",
              "    (() => {\n",
              "      let quickchartButtonEl =\n",
              "        document.querySelector('#df-5c6c771f-9fcd-4b30-938e-67b5480cae60 button');\n",
              "      quickchartButtonEl.style.display =\n",
              "        google.colab.kernel.accessAllowed ? 'block' : 'none';\n",
              "    })();\n",
              "  </script>\n",
              "</div>\n",
              "\n",
              "  <div id=\"id_98d1f73c-a14a-415c-b9a0-b084d1136956\">\n",
              "    <style>\n",
              "      .colab-df-generate {\n",
              "        background-color: #E8F0FE;\n",
              "        border: none;\n",
              "        border-radius: 50%;\n",
              "        cursor: pointer;\n",
              "        display: none;\n",
              "        fill: #1967D2;\n",
              "        height: 32px;\n",
              "        padding: 0 0 0 0;\n",
              "        width: 32px;\n",
              "      }\n",
              "\n",
              "      .colab-df-generate:hover {\n",
              "        background-color: #E2EBFA;\n",
              "        box-shadow: 0px 1px 2px rgba(60, 64, 67, 0.3), 0px 1px 3px 1px rgba(60, 64, 67, 0.15);\n",
              "        fill: #174EA6;\n",
              "      }\n",
              "\n",
              "      [theme=dark] .colab-df-generate {\n",
              "        background-color: #3B4455;\n",
              "        fill: #D2E3FC;\n",
              "      }\n",
              "\n",
              "      [theme=dark] .colab-df-generate:hover {\n",
              "        background-color: #434B5C;\n",
              "        box-shadow: 0px 1px 3px 1px rgba(0, 0, 0, 0.15);\n",
              "        filter: drop-shadow(0px 1px 2px rgba(0, 0, 0, 0.3));\n",
              "        fill: #FFFFFF;\n",
              "      }\n",
              "    </style>\n",
              "    <button class=\"colab-df-generate\" onclick=\"generateWithVariable('df')\"\n",
              "            title=\"Generate code using this dataframe.\"\n",
              "            style=\"display:none;\">\n",
              "\n",
              "  <svg xmlns=\"http://www.w3.org/2000/svg\" height=\"24px\"viewBox=\"0 0 24 24\"\n",
              "       width=\"24px\">\n",
              "    <path d=\"M7,19H8.4L18.45,9,17,7.55,7,17.6ZM5,21V16.75L18.45,3.32a2,2,0,0,1,2.83,0l1.4,1.43a1.91,1.91,0,0,1,.58,1.4,1.91,1.91,0,0,1-.58,1.4L9.25,21ZM18.45,9,17,7.55Zm-12,3A5.31,5.31,0,0,0,4.9,8.1,5.31,5.31,0,0,0,1,6.5,5.31,5.31,0,0,0,4.9,4.9,5.31,5.31,0,0,0,6.5,1,5.31,5.31,0,0,0,8.1,4.9,5.31,5.31,0,0,0,12,6.5,5.46,5.46,0,0,0,6.5,12Z\"/>\n",
              "  </svg>\n",
              "    </button>\n",
              "    <script>\n",
              "      (() => {\n",
              "      const buttonEl =\n",
              "        document.querySelector('#id_98d1f73c-a14a-415c-b9a0-b084d1136956 button.colab-df-generate');\n",
              "      buttonEl.style.display =\n",
              "        google.colab.kernel.accessAllowed ? 'block' : 'none';\n",
              "\n",
              "      buttonEl.onclick = () => {\n",
              "        google.colab.notebook.generateWithVariable('df');\n",
              "      }\n",
              "      })();\n",
              "    </script>\n",
              "  </div>\n",
              "\n",
              "    </div>\n",
              "  </div>\n"
            ]
          },
          "metadata": {},
          "execution_count": 191
        }
      ]
    },
    {
      "cell_type": "code",
      "source": [
        "df.isnull().mean()"
      ],
      "metadata": {
        "colab": {
          "base_uri": "https://localhost:8080/"
        },
        "id": "zrLrzWDuyDxo",
        "outputId": "47167562-d289-4af1-bb62-294920fc0d8f"
      },
      "execution_count": null,
      "outputs": [
        {
          "output_type": "execute_result",
          "data": {
            "text/plain": [
              "지점          0.000000\n",
              "지점명         0.000000\n",
              "일시          0.000000\n",
              "기온(°C)      0.000342\n",
              "지면온도(°C)    0.000000\n",
              "dtype: float64"
            ]
          },
          "metadata": {},
          "execution_count": 192
        }
      ]
    },
    {
      "cell_type": "code",
      "source": [
        "df = df.dropna()"
      ],
      "metadata": {
        "id": "ILxN7MyJyJ-a"
      },
      "execution_count": null,
      "outputs": []
    },
    {
      "cell_type": "code",
      "source": [
        "df.isnull().mean()"
      ],
      "metadata": {
        "colab": {
          "base_uri": "https://localhost:8080/"
        },
        "id": "gzRRZfiXyOa1",
        "outputId": "dfd95d6f-02a3-475e-a144-abe328f39180"
      },
      "execution_count": null,
      "outputs": [
        {
          "output_type": "execute_result",
          "data": {
            "text/plain": [
              "지점          0.0\n",
              "지점명         0.0\n",
              "일시          0.0\n",
              "기온(°C)      0.0\n",
              "지면온도(°C)    0.0\n",
              "dtype: float64"
            ]
          },
          "metadata": {},
          "execution_count": 194
        }
      ]
    },
    {
      "cell_type": "code",
      "source": [
        "x_data = df[['기온(°C)']]\n",
        "y_data = df[['지면온도(°C)']]"
      ],
      "metadata": {
        "id": "hKYsW_ayyQRv"
      },
      "execution_count": null,
      "outputs": []
    },
    {
      "cell_type": "code",
      "source": [
        "x_data = torch.FloatTensor(x_data.values)\n",
        "y_data = torch.FloatTensor(y_data.values)\n",
        "print(x_data.shape)\n",
        "print(y_data.shape)"
      ],
      "metadata": {
        "colab": {
          "base_uri": "https://localhost:8080/"
        },
        "id": "5RSU4nmbyi75",
        "outputId": "b406cd6f-61f3-49ac-83df-c53d452dfc10"
      },
      "execution_count": null,
      "outputs": [
        {
          "output_type": "stream",
          "name": "stdout",
          "text": [
            "torch.Size([8779, 1])\n",
            "torch.Size([8779, 1])\n"
          ]
        }
      ]
    },
    {
      "cell_type": "code",
      "source": [
        "plt.figure(figsize=(8,6))\n",
        "plt.scatter(x_data, y_data)"
      ],
      "metadata": {
        "colab": {
          "base_uri": "https://localhost:8080/",
          "height": 540
        },
        "id": "tqhJsSmFyoFD",
        "outputId": "4a6f767d-542b-4c2a-bd35-24555cb0dc30"
      },
      "execution_count": null,
      "outputs": [
        {
          "output_type": "execute_result",
          "data": {
            "text/plain": [
              "<matplotlib.collections.PathCollection at 0x7ede40e01150>"
            ]
          },
          "metadata": {},
          "execution_count": 197
        },
        {
          "output_type": "display_data",
          "data": {
            "text/plain": [
              "<Figure size 800x600 with 1 Axes>"
            ],
            "image/png": "[encoded data removed]"
          },
          "metadata": {}
        }
      ]
    },
    {
      "cell_type": "code",
      "source": [
        "model = nn.Linear(1,1)\n",
        "optimizer = torch.optim.SGD(model.parameters(), lr=0.001)\n",
        "print(list(model.parameters()))"
      ],
      "metadata": {
        "colab": {
          "base_uri": "https://localhost:8080/"
        },
        "id": "4iaLYtpuy_ve",
        "outputId": "d7318d77-d226-499f-8f1f-262a52acc6cc"
      },
      "execution_count": null,
      "outputs": [
        {
          "output_type": "stream",
          "name": "stdout",
          "text": [
            "[Parameter containing:\n",
            "tensor([[-0.0303]], requires_grad=True), Parameter containing:\n",
            "tensor([0.4984], requires_grad=True)]\n"
          ]
        }
      ]
    },
    {
      "cell_type": "code",
      "source": [
        "# 반복 학습을 통해 틀린 W, b를 수정하면서 오차를 계속 줄여나감\n",
        "# epochs: 반복 학습 횟수(에포크)\n",
        "epochs = 10000\n",
        "\n",
        "for epoch in range(epochs + 1):\n",
        "    y_pred = model(x_data)\n",
        "    loss = nn.MSELoss()(y_pred, y_data)\n",
        "    optimizer.zero_grad()\n",
        "    loss.backward()\n",
        "    optimizer.step()\n",
        "\n",
        "    if epoch % 100 == 0:\n",
        "        print(f'Epoch: {epoch}/{epochs} Loss: {loss: 6f}')"
      ],
      "metadata": {
        "colab": {
          "base_uri": "https://localhost:8080/"
        },
        "id": "auEQHU9jzQrU",
        "outputId": "25b43462-4fad-4b6b-9c4c-25fc664366cc"
      },
      "execution_count": null,
      "outputs": [
        {
          "output_type": "stream",
          "name": "stdout",
          "text": [
            "Epoch: 0/10000 Loss:  335.489014\n",
            "Epoch: 100/10000 Loss:  12.980954\n",
            "Epoch: 200/10000 Loss:  12.977272\n",
            "Epoch: 300/10000 Loss:  12.974142\n",
            "Epoch: 400/10000 Loss:  12.971481\n",
            "Epoch: 500/10000 Loss:  12.969219\n",
            "Epoch: 600/10000 Loss:  12.967294\n",
            "Epoch: 700/10000 Loss:  12.965660\n",
            "Epoch: 800/10000 Loss:  12.964271\n",
            "Epoch: 900/10000 Loss:  12.963088\n",
            "Epoch: 1000/10000 Loss:  12.962082\n",
            "Epoch: 1100/10000 Loss:  12.961228\n",
            "Epoch: 1200/10000 Loss:  12.960502\n",
            "Epoch: 1300/10000 Loss:  12.959885\n",
            "Epoch: 1400/10000 Loss:  12.959360\n",
            "Epoch: 1500/10000 Loss:  12.958913\n",
            "Epoch: 1600/10000 Loss:  12.958534\n",
            "Epoch: 1700/10000 Loss:  12.958211\n",
            "Epoch: 1800/10000 Loss:  12.957936\n",
            "Epoch: 1900/10000 Loss:  12.957702\n",
            "Epoch: 2000/10000 Loss:  12.957505\n",
            "Epoch: 2100/10000 Loss:  12.957336\n",
            "Epoch: 2200/10000 Loss:  12.957191\n",
            "Epoch: 2300/10000 Loss:  12.957069\n",
            "Epoch: 2400/10000 Loss:  12.956966\n",
            "Epoch: 2500/10000 Loss:  12.956879\n",
            "Epoch: 2600/10000 Loss:  12.956804\n",
            "Epoch: 2700/10000 Loss:  12.956739\n",
            "Epoch: 2800/10000 Loss:  12.956686\n",
            "Epoch: 2900/10000 Loss:  12.956640\n",
            "Epoch: 3000/10000 Loss:  12.956602\n",
            "Epoch: 3100/10000 Loss:  12.956566\n",
            "Epoch: 3200/10000 Loss:  12.956539\n",
            "Epoch: 3300/10000 Loss:  12.956514\n",
            "Epoch: 3400/10000 Loss:  12.956494\n",
            "Epoch: 3500/10000 Loss:  12.956478\n",
            "Epoch: 3600/10000 Loss:  12.956464\n",
            "Epoch: 3700/10000 Loss:  12.956449\n",
            "Epoch: 3800/10000 Loss:  12.956440\n",
            "Epoch: 3900/10000 Loss:  12.956429\n",
            "Epoch: 4000/10000 Loss:  12.956423\n",
            "Epoch: 4100/10000 Loss:  12.956415\n",
            "Epoch: 4200/10000 Loss:  12.956409\n",
            "Epoch: 4300/10000 Loss:  12.956406\n",
            "Epoch: 4400/10000 Loss:  12.956401\n",
            "Epoch: 4500/10000 Loss:  12.956397\n",
            "Epoch: 4600/10000 Loss:  12.956394\n",
            "Epoch: 4700/10000 Loss:  12.956392\n",
            "Epoch: 4800/10000 Loss:  12.956390\n",
            "Epoch: 4900/10000 Loss:  12.956389\n",
            "Epoch: 5000/10000 Loss:  12.956388\n",
            "Epoch: 5100/10000 Loss:  12.956387\n",
            "Epoch: 5200/10000 Loss:  12.956385\n",
            "Epoch: 5300/10000 Loss:  12.956383\n",
            "Epoch: 5400/10000 Loss:  12.956382\n",
            "Epoch: 5500/10000 Loss:  12.956382\n",
            "Epoch: 5600/10000 Loss:  12.956382\n",
            "Epoch: 5700/10000 Loss:  12.956381\n",
            "Epoch: 5800/10000 Loss:  12.956381\n",
            "Epoch: 5900/10000 Loss:  12.956379\n",
            "Epoch: 6000/10000 Loss:  12.956379\n",
            "Epoch: 6100/10000 Loss:  12.956380\n",
            "Epoch: 6200/10000 Loss:  12.956379\n",
            "Epoch: 6300/10000 Loss:  12.956379\n",
            "Epoch: 6400/10000 Loss:  12.956379\n",
            "Epoch: 6500/10000 Loss:  12.956380\n",
            "Epoch: 6600/10000 Loss:  12.956380\n",
            "Epoch: 6700/10000 Loss:  12.956379\n",
            "Epoch: 6800/10000 Loss:  12.956379\n",
            "Epoch: 6900/10000 Loss:  12.956379\n",
            "Epoch: 7000/10000 Loss:  12.956379\n",
            "Epoch: 7100/10000 Loss:  12.956379\n",
            "Epoch: 7200/10000 Loss:  12.956379\n",
            "Epoch: 7300/10000 Loss:  12.956379\n",
            "Epoch: 7400/10000 Loss:  12.956379\n",
            "Epoch: 7500/10000 Loss:  12.956379\n",
            "Epoch: 7600/10000 Loss:  12.956379\n",
            "Epoch: 7700/10000 Loss:  12.956378\n",
            "Epoch: 7800/10000 Loss:  12.956379\n",
            "Epoch: 7900/10000 Loss:  12.956378\n",
            "Epoch: 8000/10000 Loss:  12.956379\n",
            "Epoch: 8100/10000 Loss:  12.956379\n",
            "Epoch: 8200/10000 Loss:  12.956379\n",
            "Epoch: 8300/10000 Loss:  12.956379\n",
            "Epoch: 8400/10000 Loss:  12.956379\n",
            "Epoch: 8500/10000 Loss:  12.956379\n",
            "Epoch: 8600/10000 Loss:  12.956379\n",
            "Epoch: 8700/10000 Loss:  12.956379\n",
            "Epoch: 8800/10000 Loss:  12.956378\n",
            "Epoch: 8900/10000 Loss:  12.956379\n",
            "Epoch: 9000/10000 Loss:  12.956379\n",
            "Epoch: 9100/10000 Loss:  12.956379\n",
            "Epoch: 9200/10000 Loss:  12.956379\n",
            "Epoch: 9300/10000 Loss:  12.956379\n",
            "Epoch: 9400/10000 Loss:  12.956379\n",
            "Epoch: 9500/10000 Loss:  12.956379\n",
            "Epoch: 9600/10000 Loss:  12.956379\n",
            "Epoch: 9700/10000 Loss:  12.956379\n",
            "Epoch: 9800/10000 Loss:  12.956379\n",
            "Epoch: 9900/10000 Loss:  12.956379\n",
            "Epoch: 10000/10000 Loss:  12.956379\n"
          ]
        }
      ]
    },
    {
      "cell_type": "code",
      "source": [
        "print(list(model.parameters()))"
      ],
      "metadata": {
        "colab": {
          "base_uri": "https://localhost:8080/"
        },
        "id": "Ixu6fRq2ziln",
        "outputId": "7283e131-e366-4df9-a6e6-bc8785725ab4"
      },
      "execution_count": null,
      "outputs": [
        {
          "output_type": "stream",
          "name": "stdout",
          "text": [
            "[Parameter containing:\n",
            "tensor([[1.0854]], requires_grad=True), Parameter containing:\n",
            "tensor([0.8199], requires_grad=True)]\n"
          ]
        }
      ]
    },
    {
      "cell_type": "code",
      "source": [
        "y_pred = model(x_data).detach().numpy()\n",
        "y_pred"
      ],
      "metadata": {
        "colab": {
          "base_uri": "https://localhost:8080/"
        },
        "id": "MxGbOVimzu4J",
        "outputId": "f1ae0ae6-2c21-4e8a-d24b-3d40b3ac5c3b"
      },
      "execution_count": null,
      "outputs": [
        {
          "output_type": "execute_result",
          "data": {
            "text/plain": [
              "array([[-8.622976 ],\n",
              "       [-7.103439 ],\n",
              "       [-6.452208 ],\n",
              "       ...,\n",
              "       [-7.103439 ],\n",
              "       [-8.948592 ],\n",
              "       [-9.1656685]], dtype=float32)"
            ]
          },
          "metadata": {},
          "execution_count": 201
        }
      ]
    },
    {
      "cell_type": "code",
      "source": [
        "plt.figure(figsize=(8,6))\n",
        "plt.scatter(x_data, y_data)\n",
        "plt.scatter(x_data, y_pred)"
      ],
      "metadata": {
        "colab": {
          "base_uri": "https://localhost:8080/",
          "height": 540
        },
        "id": "cF37Ntb5z0H8",
        "outputId": "f4a3e0e9-30ee-407d-82ad-f39a4565c9b2"
      },
      "execution_count": null,
      "outputs": [
        {
          "output_type": "execute_result",
          "data": {
            "text/plain": [
              "<matplotlib.collections.PathCollection at 0x7ede47f272e0>"
            ]
          },
          "metadata": {},
          "execution_count": 202
        },
        {
          "output_type": "display_data",
          "data": {
            "text/plain": [
              "<Figure size 800x600 with 1 Axes>"
            ],
            "image/png": "[encoded data removed]"
          },
          "metadata": {}
        }
      ]
    }
  ]
}