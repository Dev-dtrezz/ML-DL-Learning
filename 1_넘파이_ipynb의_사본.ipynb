{
  "nbformat": 4,
  "nbformat_minor": 0,
  "metadata": {
    "colab": {
      "provenance": [],
      "authorship_tag": "ABX9TyPJT3d4RH/JP3Osn80P/pgL"
    },
    "kernelspec": {
      "name": "python3",
      "display_name": "Python 3"
    },
    "language_info": {
      "name": "python"
    }
  },
  "cells": [
    {
      "cell_type": "markdown",
      "source": [
        "# 1. 넘파이(numpy)\n",
        "\n",
        "넘파이(Numpy)는 파이썬에서 사용되는 과학 및 수학 연산을 위한 강력한 라이브러리입니다. 주로 다차원 배열을 다루는 데에 특화되어 있어, 데이터 분석, 머신러닝, 과학 계산 등 다양한 분야에서 널리 사용됩니다. 넘파이 배열은 C 언어로 구현되어 있어 연산이 빠르고 효율적입니다. 특히 큰 데이터셋에서 수치 연산을 수행할 때 뛰어난 성능을 보입니다. 또한 메모리 사용을 최적화하고 효율적으로 관리합니다."
      ],
      "metadata": {
        "id": "iABwHGV_oTnZ"
      }
    },
    {
      "cell_type": "code",
      "source": [
        "!pip install numpy"
      ],
      "metadata": {
        "colab": {
          "base_uri": "https://localhost:8080/"
        },
        "id": "F1TXoDlQqaa_",
        "outputId": "addd4c6e-055b-4b6d-da4c-e27f5b703129"
      },
      "execution_count": null,
      "outputs": [
        {
          "output_type": "stream",
          "name": "stdout",
          "text": [
            "Requirement already satisfied: numpy in /usr/local/lib/python3.10/dist-packages (1.23.5)\n"
          ]
        }
      ]
    },
    {
      "cell_type": "markdown",
      "source": [
        "# 2. 넘파이의 주요 특징과 기능"
      ],
      "metadata": {
        "id": "tJWPTMFuqb-J"
      }
    },
    {
      "cell_type": "markdown",
      "source": [
        "### 2-1. 다차원 배열(N-dimensional array)\n",
        "넘파이의 핵심은 다차원 배열인 ndarray입니다. 이 배열은 동일한 자료형을 가지는 원소들로 이루어져 있습니다. 다차원 배열은 1차원, 2차원, 3차원 등 다양한 차원을 가질 수 있습니다."
      ],
      "metadata": {
        "id": "UJI51OLarS7F"
      }
    },
    {
      "cell_type": "code",
      "source": [
        "# 리스트\n",
        "list1 = [1,2,3,4]\n",
        "list2 = [[1,2,3,4],[5,6,7,8]]\n",
        "print(list1)\n",
        "print(list2)\n",
        "print(type(list1))\n",
        "print(type(list1[0]))\n",
        "print(type(list2[0]))"
      ],
      "metadata": {
        "colab": {
          "base_uri": "https://localhost:8080/"
        },
        "id": "CN4PQyu5raOM",
        "outputId": "b322cb95-3651-4df0-b50b-d15d0e25263b"
      },
      "execution_count": null,
      "outputs": [
        {
          "output_type": "stream",
          "name": "stdout",
          "text": [
            "[1, 2, 3, 4]\n",
            "[[1, 2, 3, 4], [5, 6, 7, 8]]\n",
            "<class 'list'>\n",
            "<class 'int'>\n",
            "<class 'list'>\n"
          ]
        }
      ]
    },
    {
      "cell_type": "code",
      "source": [
        "import numpy as np\n",
        "\n",
        "#ndarray\n",
        "#1차원 배열\n",
        "ndarr1 = np.array([1,2,3,4])\n",
        "print(ndarr1) # 출력할때 ndarray는 list와 유사하지만 ,콤마 가 없다\n",
        "print(type(ndarr1))\n",
        "print(type(ndarr1[1]))"
      ],
      "metadata": {
        "colab": {
          "base_uri": "https://localhost:8080/"
        },
        "id": "Iw4MezAbrZtW",
        "outputId": "cdbd9987-e94a-4c5d-8974-801cc088b6a3"
      },
      "execution_count": null,
      "outputs": [
        {
          "output_type": "stream",
          "name": "stdout",
          "text": [
            "[1 2 3 4]\n",
            "<class 'numpy.ndarray'>\n",
            "<class 'numpy.int64'>\n"
          ]
        }
      ]
    },
    {
      "cell_type": "code",
      "source": [
        "#2차원 배열\n",
        "ndarr2 = np.array([[1,2,3],[4,5,6]]) # 리스트를 넣어줌\n",
        "print(ndarr2)\n",
        "print(type(ndarr2[0]))"
      ],
      "metadata": {
        "colab": {
          "base_uri": "https://localhost:8080/"
        },
        "id": "oH_NpIRdtkBr",
        "outputId": "1814f754-23cb-4162-e119-9f29aaf555e8"
      },
      "execution_count": null,
      "outputs": [
        {
          "output_type": "stream",
          "name": "stdout",
          "text": [
            "[[1 2 3]\n",
            " [4 5 6]]\n",
            "<class 'numpy.ndarray'>\n"
          ]
        }
      ]
    },
    {
      "cell_type": "markdown",
      "source": [
        "### 2-2. 리스트와 ndarray 변환\n",
        "\n",
        "데이터 타입을 다른 데이터 타입으로 변환할 수 있습니다. 리스트에서 배열로의 변환은 np.array() 함수를 사용하고, 배열에서 리스트로의 변환은 tolist() 메서드를 사용합니다."
      ],
      "metadata": {
        "id": "8MoBVmTquMvs"
      }
    },
    {
      "cell_type": "code",
      "source": [
        "# 리스트를 ndarray로 변환\n",
        "list1 = [1,2,3,4]\n",
        "ndarr1 = np.array(list1)\n",
        "print(ndarr1)\n",
        "print(type(ndarr1))\n",
        "\n",
        "# ndarray를 리스트로 변환\n",
        "list2 = ndarr1.tolist()\n",
        "print(list2)\n",
        "print(type(list2))"
      ],
      "metadata": {
        "colab": {
          "base_uri": "https://localhost:8080/"
        },
        "id": "H6Dgxx4UuR-0",
        "outputId": "95693e66-296d-418f-f66e-002865d12bcb"
      },
      "execution_count": null,
      "outputs": [
        {
          "output_type": "stream",
          "name": "stdout",
          "text": [
            "[1 2 3 4]\n",
            "<class 'numpy.ndarray'>\n",
            "[1, 2, 3, 4]\n",
            "<class 'list'>\n"
          ]
        }
      ]
    },
    {
      "cell_type": "markdown",
      "source": [
        "### 2-3. ndarray의 데이터 타입\n",
        "넘파이의 ndarray는 동일한 자료형을 가지는 원소들로 이루어져 있으며, 다양한 데이터 타입을 지원합니다."
      ],
      "metadata": {
        "id": "ApP3kDxrvPhs"
      }
    },
    {
      "cell_type": "code",
      "source": [
        "list1 = [1, 3.14, 'Python', '🤠', True]\n",
        "print(list1)\n",
        "print(list1[3])"
      ],
      "metadata": {
        "colab": {
          "base_uri": "https://localhost:8080/"
        },
        "id": "VpcV_5Ojvi-S",
        "outputId": "af3d5c85-7bb6-4759-e0d1-e5ad4ad71681"
      },
      "execution_count": null,
      "outputs": [
        {
          "output_type": "stream",
          "name": "stdout",
          "text": [
            "[1, 3.14, 'Python', '🤠', True]\n",
            "🤠\n"
          ]
        }
      ]
    },
    {
      "cell_type": "code",
      "source": [
        "# ndarray\n",
        "ndarr1 = np.array([1,2,3,4])\n",
        "print(ndarr1)\n",
        "ndarr2 = np.array([1,2,3.14,4])\n",
        "print(ndarr2) # .찍히면서 전부다 실수형으로 바뀜\n",
        "ndarr3 = np.array([1,2,3.14,True])\n",
        "print(ndarr3) # True가 1로 바뀜\n",
        "ndarr4 = np.array(['1',2,3.14,True])\n",
        "print(ndarr4) # 다 문자열로 되어버림  순서불린 < 정수 < 실수 < 문자열"
      ],
      "metadata": {
        "colab": {
          "base_uri": "https://localhost:8080/"
        },
        "id": "BJMXJMfVvxn4",
        "outputId": "e0a9e02a-03b2-4766-d2f0-8f2fd8c74e61"
      },
      "execution_count": null,
      "outputs": [
        {
          "output_type": "stream",
          "name": "stdout",
          "text": [
            "[1 2 3 4]\n",
            "[1.   2.   3.14 4.  ]\n",
            "[1.   2.   3.14 1.  ]\n",
            "['1' '2' '3.14' 'True']\n"
          ]
        }
      ]
    },
    {
      "cell_type": "code",
      "source": [
        "ndarr3 = np.array([1,2,3.14,True], dtype = int)\n",
        "print(ndarr3)\n",
        "ndarr4 = np.array(['1',2,3.14,True], dtype=int) # True는 숫자가 아니기 때문에 에러발생\n",
        "  print(ndarr4)\n",
        "#ndarr4 = np.array(['1',2,3.14,'True'], dtype=int) # True는 숫자가 아니기 때문에 에러발생\n",
        "#print(ndarr4)"
      ],
      "metadata": {
        "colab": {
          "base_uri": "https://localhost:8080/"
        },
        "id": "Fj8Zog24vtuL",
        "outputId": "b9d0a945-93fa-41fd-a208-4afd01682e2a"
      },
      "execution_count": null,
      "outputs": [
        {
          "output_type": "stream",
          "name": "stdout",
          "text": [
            "[1 2 3 1]\n",
            "[1 2 3 1]\n"
          ]
        }
      ]
    },
    {
      "cell_type": "markdown",
      "source": [
        "### 2-4. ndarray 인덱싱과 슬라이싱\n",
        "넘파이의 ndarray는 리스트와 유사하게 인덱싱과 슬라이싱을 지원합니다."
      ],
      "metadata": {
        "id": "XDO-e-ebxO7J"
      }
    },
    {
      "cell_type": "code",
      "source": [
        "ndarr1 = np.array(['🍇','🍈','🍉','🍊','🍋'])\n",
        "print(ndarr1)\n",
        "print(ndarr1.shape) # 5개의 데이터를 숫자 / 세트 형태로 반환하기때문에 뒤에 ,"
      ],
      "metadata": {
        "colab": {
          "base_uri": "https://localhost:8080/"
        },
        "id": "dTp_s11Kz6dW",
        "outputId": "b84f5cd7-6d27-4118-d5be-8660f5b3d773"
      },
      "execution_count": null,
      "outputs": [
        {
          "output_type": "stream",
          "name": "stdout",
          "text": [
            "['🍇' '🍈' '🍉' '🍊' '🍋']\n",
            "(5,)\n"
          ]
        }
      ]
    },
    {
      "cell_type": "code",
      "source": [
        "# 인덱싱\n",
        "print(ndarr1[0])\n",
        "print(ndarr1[4])\n",
        "print(ndarr1[-1])\n",
        "print(ndarr1[-2])"
      ],
      "metadata": {
        "colab": {
          "base_uri": "https://localhost:8080/"
        },
        "id": "HzyBuZwO0ORW",
        "outputId": "7cacdb4f-a9d0-4a3b-a3ac-cbb927111317"
      },
      "execution_count": null,
      "outputs": [
        {
          "output_type": "stream",
          "name": "stdout",
          "text": [
            "🍇\n",
            "🍋\n",
            "🍋\n",
            "🍊\n"
          ]
        }
      ]
    },
    {
      "cell_type": "code",
      "source": [
        "# 슬라이싱\n",
        "# '🍇','🍈','🍉','🍊','🍋'\n",
        "print(ndarr1[0:3])\n",
        "print(ndarr1[2:])\n",
        "print(ndarr1[:3])"
      ],
      "metadata": {
        "colab": {
          "base_uri": "https://localhost:8080/"
        },
        "id": "hgX8WRTm06hG",
        "outputId": "220293dc-6f34-4228-e769-be6df689696c"
      },
      "execution_count": null,
      "outputs": [
        {
          "output_type": "stream",
          "name": "stdout",
          "text": [
            "['🍇' '🍈' '🍉']\n",
            "['🍉' '🍊' '🍋']\n",
            "['🍇' '🍈' '🍉']\n"
          ]
        }
      ]
    },
    {
      "cell_type": "code",
      "source": [
        "ndarr2d = np.array([[1,2,3,4],\n",
        "                    [5,6,7,8],\n",
        "                    [9,10,11,12]]) # 2차원이기 때문에 대괄호가 두개!\n",
        "print(ndarr2d)\n",
        "print(ndarr2d.shape) # 행렬로 내보내줌 (row, columns) / (행,열)\n",
        "\n",
        "print(ndarr2d[0,2])\n",
        "print(ndarr2d[0][2]) # 밑 형식을 더 많이 사용함(행/열)을 슬라이싱\n",
        "\n",
        "# 0행 가져오기\n",
        "print(ndarr2d[0])\n",
        "print(ndarr2d[0,])\n",
        "print(ndarr2d[0,:]) # :은 모든이라고 볼 수 있다 -> 모든 열을 가져온다\n",
        "\n",
        "# 0열 가져오기\n",
        "print(ndarr2d[:, 0]) # :을 써야만 가능 [,0]방법은 에러남"
      ],
      "metadata": {
        "colab": {
          "base_uri": "https://localhost:8080/"
        },
        "id": "l8XRUWzH1i1I",
        "outputId": "b89f6067-c366-49a9-96cf-f7576df4d922"
      },
      "execution_count": null,
      "outputs": [
        {
          "output_type": "stream",
          "name": "stdout",
          "text": [
            "[[ 1  2  3  4]\n",
            " [ 5  6  7  8]\n",
            " [ 9 10 11 12]]\n",
            "(3, 4)\n",
            "3\n",
            "3\n",
            "[1 2 3 4]\n",
            "[1 2 3 4]\n",
            "[1 2 3 4]\n",
            "[1 5 9]\n"
          ]
        }
      ]
    },
    {
      "cell_type": "markdown",
      "source": [
        "### 2-5. Fancy Indexing\n",
        "\n",
        "Fancy indexing은 넘파이에서 배열을 인덱싱하는 강력하고 유연한 방법 중 하나입니다. Fancy indexing은 정수 배열이나 불리언 배열을 사용하여 배열의 일부를 선택하는 방법을 말합니다. 이를 통해 여러 개의 요소를 한 번에 선택하거나 조건에 맞게 선택할 수 있습니다."
      ],
      "metadata": {
        "id": "4uG2dqdx4dck"
      }
    },
    {
      "cell_type": "code",
      "source": [
        "ndarr1 = np.array([10,15,2,8,20,90,85,44,23,32])\n",
        "print(ndarr1)\n",
        "idx = [2,5,9]\n",
        "print(ndarr1[idx])"
      ],
      "metadata": {
        "colab": {
          "base_uri": "https://localhost:8080/"
        },
        "id": "KpsGdYhI4oN4",
        "outputId": "89a5ccf2-05fc-471d-b179-6c866ba65b3e"
      },
      "execution_count": null,
      "outputs": [
        {
          "output_type": "stream",
          "name": "stdout",
          "text": [
            "[10 15  2  8 20 90 85 44 23 32]\n",
            "[ 2 90 32]\n"
          ]
        }
      ]
    },
    {
      "cell_type": "code",
      "source": [
        "ndarr2d = np.array([[1,2,3,4],\n",
        "                    [5,6,7,8],\n",
        "                    [9,10,11,12]])\n",
        "\n",
        "print(ndarr2d[[0, 1], :])"
      ],
      "metadata": {
        "colab": {
          "base_uri": "https://localhost:8080/"
        },
        "id": "wG83F_BM2E3L",
        "outputId": "8c138ba7-e90a-4d7b-aa95-becb82c150eb"
      },
      "execution_count": null,
      "outputs": [
        {
          "output_type": "stream",
          "name": "stdout",
          "text": [
            "[[1 2 3 4]\n",
            " [5 6 7 8]]\n"
          ]
        }
      ]
    },
    {
      "cell_type": "markdown",
      "source": [
        "### 2-6. Boolean Indexing\n",
        "Boolean Indexing은 넘파이에서 배열의 원소를 선택하는 강력하고 유용한 방법 중 하나입니다. 이 방법은 불리언(Boolean) 값으로 이루어진 배열을 사용하여 조건을 충족하는 원소만 선택하는 방식입니다."
      ],
      "metadata": {
        "id": "dv0PnMS55-2T"
      }
    },
    {
      "cell_type": "code",
      "source": [
        "ndarr1 = np.array(['🍇','🍈','🍉','🍊','🍋'])\n",
        "selValue = [True, False, True, True, False]\n",
        "print(ndarr1[selValue])\n",
        "\n",
        "selValue = [True, False, True]\n",
        "# print(ndarr1[selValue]) 갯수가 안 맞아서 오류남"
      ],
      "metadata": {
        "colab": {
          "base_uri": "https://localhost:8080/"
        },
        "id": "HdyxMoq56Fau",
        "outputId": "384050e2-4d85-4380-eac0-72a12f7ee7a9"
      },
      "execution_count": null,
      "outputs": [
        {
          "output_type": "stream",
          "name": "stdout",
          "text": [
            "['🍇' '🍉' '🍊']\n"
          ]
        }
      ]
    },
    {
      "cell_type": "code",
      "source": [
        "ndarr2d = np.array([[1,2,3,4],\n",
        "                    [5,6,7,8],\n",
        "                    [9,10,11,12]])\n",
        "print(ndarr2d > 7)\n",
        "print(ndarr2d[ndarr2d>7]) # 조건에 맞는 결과값만 반환가능"
      ],
      "metadata": {
        "colab": {
          "base_uri": "https://localhost:8080/"
        },
        "id": "7-ybWhIs6NXq",
        "outputId": "fa0f76ad-7ce0-4233-964d-387c45b6b182"
      },
      "execution_count": null,
      "outputs": [
        {
          "output_type": "stream",
          "name": "stdout",
          "text": [
            "[[False False False False]\n",
            " [False False False  True]\n",
            " [ True  True  True  True]]\n",
            "[ 8  9 10 11 12]\n"
          ]
        }
      ]
    },
    {
      "cell_type": "markdown",
      "source": [
        "# 3. 행렬 연산\n",
        "넘파이에서는 다차원 배열인 ndarray를 사용하여 행렬 연산을 수행할 수 있습니다. 행렬 연산은 선형 대수와 관련이 깊어, 데이터 과학, 머신러닝, 통계 등 다양한 분야에서 사용됩니다."
      ],
      "metadata": {
        "id": "00ejXZe-7qEZ"
      }
    },
    {
      "cell_type": "code",
      "source": [
        "a = np.array([[1,2,3],\n",
        "              [2,3,4]])\n",
        "\n",
        "b = np.array([[3,4,5],\n",
        "              [1,2,3]])\n",
        "\n",
        "print(a.shape, b.shape)"
      ],
      "metadata": {
        "colab": {
          "base_uri": "https://localhost:8080/"
        },
        "id": "AjJG1jbc7xVF",
        "outputId": "59c992e3-9306-4baf-aa70-8884204d8fae"
      },
      "execution_count": null,
      "outputs": [
        {
          "output_type": "stream",
          "name": "stdout",
          "text": [
            "(2, 3) (2, 3)\n"
          ]
        }
      ]
    },
    {
      "cell_type": "code",
      "source": [
        "# 행렬 덧셈\n",
        "print(a+3)\n",
        "print(a+b)\n",
        "\n",
        "# 행렬 뺄셈\n",
        "print(a-3)\n",
        "print(a-b)\n",
        "\n",
        "# 행렬 원소별 곱셈\n",
        "print(a*3)\n",
        "print(a*b)\n",
        "\n",
        "# 행렬 곱(Dot product)\n",
        "# a @ b\n",
        "# np.dot(a,b)\n",
        "# 행렬 곱 조건 : 맞닿는 shape가 같아야함. 떨어져있는 shape가 결과행렬이 됌\n",
        "c = np.array([[1,2,3],\n",
        "              [1,2,3],\n",
        "              [2,3,4]])\n",
        "d = np.array([[1,2],\n",
        "              [3,4],\n",
        "              [5,6]])\n",
        "print(c.shape, d.shape) # (3, 3) (3, 2) / 결과는 (3,2)로 나옴\n",
        "\n",
        "# 행렬 나눗셈\n",
        "print(a / b)"
      ],
      "metadata": {
        "colab": {
          "base_uri": "https://localhost:8080/"
        },
        "id": "IfpUxFYx8L1R",
        "outputId": "20fa952c-6d23-414b-c063-6afda1d74049"
      },
      "execution_count": null,
      "outputs": [
        {
          "output_type": "stream",
          "name": "stdout",
          "text": [
            "[[4 5 6]\n",
            " [5 6 7]]\n",
            "[[4 6 8]\n",
            " [3 5 7]]\n",
            "[[-2 -1  0]\n",
            " [-1  0  1]]\n",
            "[[-2 -2 -2]\n",
            " [ 1  1  1]]\n",
            "[[ 3  6  9]\n",
            " [ 6  9 12]]\n",
            "[[ 3  8 15]\n",
            " [ 2  6 12]]\n",
            "(3, 3) (3, 2)\n",
            "[[0.33333333 0.5        0.6       ]\n",
            " [2.         1.5        1.33333333]]\n"
          ]
        }
      ]
    },
    {
      "cell_type": "code",
      "source": [
        "print((1*1 + 2*3 + 3*5),(1*2 + 2*4 + 3*6))\n",
        "print((1*1 + 2*3 + 3*5),(1*2 + 2*4 + 3*6))\n",
        "print((2*3 + 3*3 + 4*5),(2*2 + 3*4 + 4*6))"
      ],
      "metadata": {
        "colab": {
          "base_uri": "https://localhost:8080/"
        },
        "id": "0tV2J6P2_Sz2",
        "outputId": "7b39024e-54b6-4422-83fb-aa50b87ff16f"
      },
      "execution_count": null,
      "outputs": [
        {
          "output_type": "stream",
          "name": "stdout",
          "text": [
            "22 28\n",
            "22 28\n",
            "35 40\n"
          ]
        }
      ]
    },
    {
      "cell_type": "code",
      "source": [
        "print(c@d)\n",
        "print(np.dot(c,d))"
      ],
      "metadata": {
        "colab": {
          "base_uri": "https://localhost:8080/"
        },
        "id": "cgZ4-tZQ_cKD",
        "outputId": "d5340ae9-f911-41e0-e009-e8259f1770ed"
      },
      "execution_count": null,
      "outputs": [
        {
          "output_type": "stream",
          "name": "stdout",
          "text": [
            "[[22 28]\n",
            " [22 28]\n",
            " [31 40]]\n",
            "[[22 28]\n",
            " [22 28]\n",
            " [31 40]]\n"
          ]
        }
      ]
    },
    {
      "cell_type": "code",
      "source": [
        "# 전치 행렬 : 행과 열을 바꿈\n",
        "print(a)\n",
        "print(a.T)"
      ],
      "metadata": {
        "colab": {
          "base_uri": "https://localhost:8080/"
        },
        "id": "NssmAu0P_fDu",
        "outputId": "b2dc218d-2145-45de-c478-fcda8838c76f"
      },
      "execution_count": null,
      "outputs": [
        {
          "output_type": "stream",
          "name": "stdout",
          "text": [
            "[[1 2 3]\n",
            " [2 3 4]]\n",
            "[[1 2]\n",
            " [2 3]\n",
            " [3 4]]\n"
          ]
        }
      ]
    },
    {
      "cell_type": "code",
      "source": [
        "# 역행렬\n",
        "# 정사각행렬(행과 열의 개수가 같은 경우)\n",
        "# A = [[a b], [c,d]] => ad - bc != 0\n",
        "# AA-1 = A-1A = |(단위행렬 : 대각선 상의 모든 원소가 1이고, 나머지 원소가 0)\n",
        "#print(np.linalg.inv(d))\n",
        "e = np.array([[1,2],[3,4]])\n",
        "print(np.linalg.inv(e))\n"
      ],
      "metadata": {
        "colab": {
          "base_uri": "https://localhost:8080/"
        },
        "id": "Hcs82hkXDQoc",
        "outputId": "8e574ee2-ffcd-428b-8279-903b4dc85e1b"
      },
      "execution_count": null,
      "outputs": [
        {
          "output_type": "stream",
          "name": "stdout",
          "text": [
            "[[-2.   1. ]\n",
            " [ 1.5 -0.5]]\n"
          ]
        }
      ]
    },
    {
      "cell_type": "markdown",
      "source": [
        "# 4. 순차적인 값 생성\n",
        "NumPy에서 np.arange() 함수는 일정한 간격으로 숫자들을 생성하는 데 사용됩니다. 이 함수는 Python의 기본 range() 함수와 유사하지만, NumPy 배열을 반환하므로 수학적인 연산이 가능합니다."
      ],
      "metadata": {
        "id": "a1SealpkEoMk"
      }
    },
    {
      "cell_type": "code",
      "source": [
        "arr2 = np.arange(1, 11)\n",
        "print(arr2)\n",
        "\n",
        "for i in arr2:\n",
        "    print(i, end=' ')"
      ],
      "metadata": {
        "colab": {
          "base_uri": "https://localhost:8080/"
        },
        "id": "pfPm3RzwFM1o",
        "outputId": "b88d6cb8-e098-40ec-c87b-76773d907c3a"
      },
      "execution_count": null,
      "outputs": [
        {
          "output_type": "stream",
          "name": "stdout",
          "text": [
            "[ 1  2  3  4  5  6  7  8  9 10]\n",
            "1 2 3 4 5 6 7 8 9 10 "
          ]
        }
      ]
    },
    {
      "cell_type": "markdown",
      "source": [
        "# 5. 정렬\n",
        "\n",
        "NumPy의 np.sort() 함수는 배열을 정렬하는 데 사용됩니다. 이 함수는 기본적으로 원래 배열을 변경하지 않고 정렬된 배열의 복사본을 반환합니다."
      ],
      "metadata": {
        "id": "etF9JffZFZj3"
      }
    },
    {
      "cell_type": "code",
      "source": [
        "ndarr1 = np.array([1, 10, 5, 7, 2, 4, 3, 6, 8, 9])\n",
        "print(ndarr1)"
      ],
      "metadata": {
        "colab": {
          "base_uri": "https://localhost:8080/"
        },
        "id": "CAEHTZrEFpGV",
        "outputId": "8be49124-5ebc-4327-b4ea-13229aeb5f9a"
      },
      "execution_count": null,
      "outputs": [
        {
          "output_type": "stream",
          "name": "stdout",
          "text": [
            "[ 1 10  5  7  2  4  3  6  8  9]\n"
          ]
        }
      ]
    },
    {
      "cell_type": "code",
      "source": [
        "print(np.sort(ndarr1)) # 오름차순\n",
        "print(ndarr1) # sort된채로 유지되지 않음(원본유지)"
      ],
      "metadata": {
        "colab": {
          "base_uri": "https://localhost:8080/"
        },
        "id": "Dt8G_xViGcvh",
        "outputId": "d6691a3c-e572-4fcc-c04e-0f98d6a79808"
      },
      "execution_count": null,
      "outputs": [
        {
          "output_type": "stream",
          "name": "stdout",
          "text": [
            "[ 1  2  3  4  5  6  7  8  9 10]\n",
            "[ 1 10  5  7  2  4  3  6  8  9]\n"
          ]
        }
      ]
    },
    {
      "cell_type": "code",
      "source": [
        "print(np.sort(ndarr1)[::-1]) # 슬라이싱을 활용한 내림차순"
      ],
      "metadata": {
        "colab": {
          "base_uri": "https://localhost:8080/"
        },
        "id": "idIqaXmHG3i7",
        "outputId": "96faebf4-8a67-4313-dea4-9984bb5f55e1"
      },
      "execution_count": null,
      "outputs": [
        {
          "output_type": "stream",
          "name": "stdout",
          "text": [
            "[10  9  8  7  6  5  4  3  2  1]\n"
          ]
        }
      ]
    },
    {
      "cell_type": "code",
      "source": [
        "ndarr2d = np.array([[11,10,12,9],\n",
        "                    [3,1,4,2],\n",
        "                    [5,6,7,8]])\n",
        "print(ndarr2d.shape)"
      ],
      "metadata": {
        "colab": {
          "base_uri": "https://localhost:8080/"
        },
        "id": "Ebi3wAcZHiZA",
        "outputId": "4754d8de-a4e9-458e-de3e-a8d19fbbb720"
      },
      "execution_count": null,
      "outputs": [
        {
          "output_type": "stream",
          "name": "stdout",
          "text": [
            "(3, 4)\n"
          ]
        }
      ]
    },
    {
      "cell_type": "code",
      "source": [
        "# 행정렬\n",
        "print(ndarr2d)\n",
        "print(np.sort(ndarr2d,axis=0)) # axis는 정렬기준할 행을 입력한다"
      ],
      "metadata": {
        "colab": {
          "base_uri": "https://localhost:8080/"
        },
        "id": "f6Cy3IEnHtNk",
        "outputId": "3a4e0f15-d3c0-4ed1-8afd-6e06040b5d7e"
      },
      "execution_count": null,
      "outputs": [
        {
          "output_type": "stream",
          "name": "stdout",
          "text": [
            "[[11 10 12  9]\n",
            " [ 3  1  4  2]\n",
            " [ 5  6  7  8]]\n",
            "[[ 3  1  4  2]\n",
            " [ 5  6  7  8]\n",
            " [11 10 12  9]]\n"
          ]
        }
      ]
    },
    {
      "cell_type": "code",
      "source": [
        "# 열정렬\n",
        "print(ndarr2d)\n",
        "print(np.sort(ndarr2d)) # 기본값: 열\n",
        "print(np.sort(ndarr2d, axis=1))"
      ],
      "metadata": {
        "colab": {
          "base_uri": "https://localhost:8080/"
        },
        "id": "5PYY-8iKIKG8",
        "outputId": "d6067bce-2ee9-4cc9-fbba-4cf67c559c52"
      },
      "execution_count": null,
      "outputs": [
        {
          "output_type": "stream",
          "name": "stdout",
          "text": [
            "[[11 10 12  9]\n",
            " [ 3  1  4  2]\n",
            " [ 5  6  7  8]]\n",
            "[[ 9 10 11 12]\n",
            " [ 1  2  3  4]\n",
            " [ 5  6  7  8]]\n",
            "[[ 9 10 11 12]\n",
            " [ 1  2  3  4]\n",
            " [ 5  6  7  8]]\n"
          ]
        }
      ]
    },
    {
      "cell_type": "code",
      "source": [
        "# 열정렬 내림차순\n",
        "print(np.sort(ndarr2d, axis=1)[:,::-1])"
      ],
      "metadata": {
        "colab": {
          "base_uri": "https://localhost:8080/"
        },
        "id": "0Ce7f4WIIj57",
        "outputId": "2e674573-25c4-44ee-eeaf-8578aa8cd9e7"
      },
      "execution_count": null,
      "outputs": [
        {
          "output_type": "stream",
          "name": "stdout",
          "text": [
            "[[12 11 10  9]\n",
            " [ 4  3  2  1]\n",
            " [ 8  7  6  5]]\n"
          ]
        }
      ]
    },
    {
      "cell_type": "code",
      "source": [
        "# 축의 마지막 방향으로 정렬\n",
        "print(np.sort(ndarr2d, axis=-1))"
      ],
      "metadata": {
        "colab": {
          "base_uri": "https://localhost:8080/"
        },
        "id": "fW_99E3_I3Wl",
        "outputId": "14b3d17d-4dae-47ef-e5ee-c1452aa0a5c2"
      },
      "execution_count": null,
      "outputs": [
        {
          "output_type": "stream",
          "name": "stdout",
          "text": [
            "[[ 9 10 11 12]\n",
            " [ 1  2  3  4]\n",
            " [ 5  6  7  8]]\n"
          ]
        }
      ]
    },
    {
      "cell_type": "markdown",
      "source": [
        "### 99. 윤섭_개인필기\n",
        "\n",
        "1.넘파이 : 큰 데이터셋에서 빠르게 수치연살 할때(c언어로 구현)\n",
        "\n",
        "2. ndarray : 다차원배열(넘파이배열)\n",
        "\n",
        "3. ndarray는 동일한 형태의 객체만 들어가야함(스트링 / 인티저)\n",
        "\n",
        "4. 데이터타입변환_데이터의 크기순서:\n",
        "불린 < 정수 < 실수 < 문자열"
      ],
      "metadata": {
        "id": "xqG5lAPWpvIz"
      }
    },
    {
      "cell_type": "code",
      "source": [],
      "metadata": {
        "id": "xzzMr6Upve3I"
      },
      "execution_count": null,
      "outputs": []
    }
  ]
}